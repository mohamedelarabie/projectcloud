{
 "cells": [
  {
   "cell_type": "markdown",
   "id": "lUEHU2Hm1EEZ",
   "metadata": {
    "id": "lUEHU2Hm1EEZ"
   },
   "source": [
    "# Core model"
   ]
  },
  {
   "cell_type": "markdown",
   "id": "aE01KPn_17RN",
   "metadata": {
    "id": "aE01KPn_17RN"
   },
   "source": [
    "### 1- Classical ML approach"
   ]
  },
  {
   "cell_type": "code",
   "execution_count": null,
   "id": "g4aDbRD-v6Mb",
   "metadata": {
    "id": "g4aDbRD-v6Mb"
   },
   "outputs": [],
   "source": [
    "import pandas as pd\n",
    "import re\n",
    "from wordcloud import WordCloud\n",
    "from sklearn.feature_extraction.text import CountVectorizer\n",
    "from sklearn.feature_extraction.text import TfidfVectorizer\n",
    "import matplotlib.pyplot as plt\n",
    "# import arabic_reshaper\n",
    "import nltk\n",
    "import numpy as np\n",
    "\n",
    "from sklearn.tree import DecisionTreeClassifier\n",
    "from sklearn.linear_model import LogisticRegression\n",
    "from sklearn.svm import SVC\n",
    "from sklearn.ensemble import RandomForestClassifier\n",
    "from sklearn.linear_model import SGDClassifier\n",
    "from sklearn.neural_network import MLPClassifier\n",
    "from sklearn.naive_bayes import GaussianNB,ComplementNB,MultinomialNB,BernoulliNB\n",
    "from sklearn.model_selection import GridSearchCV\n",
    "from sklearn.metrics import make_scorer\n",
    "from sklearn.metrics import accuracy_score, recall_score, precision_score, f1_score, classification_report\n",
    "from time import time\n",
    "# import arabicnlp "
   ]
  },
  {
   "cell_type": "code",
   "execution_count": null,
   "id": "076JeZcGwVnx",
   "metadata": {
    "id": "076JeZcGwVnx"
   },
   "outputs": [],
   "source": [
    "def train_predict(classifier,X_train,y_train,X_test,y_test, average= 'macro'): \n",
    "    '''\n",
    "\n",
    "    inputs:\n",
    "       - classifier: the learning algorithm to be trained and predicted on\n",
    "       - x_train  : train set Features\n",
    "       - y_train  : train set Labels\n",
    "       - x_test   : test set Features\n",
    "       - y_train  : test set Labels\n",
    " \n",
    "    '''\n",
    "    \n",
    "    results = {}\n",
    "    \n",
    "    # Fit the classifier to the training data and Calculate the time\n",
    "    start_train = time()\n",
    "    classifier = classifier.fit(X_train, y_train)\n",
    "    end_train = time()\n",
    "    results['train_time'] = round((end_train-start_train), 2)\n",
    "\n",
    "    # Predict the training/testing labels and Calculate the time\n",
    "    start_test = time()\n",
    "    y_pred_train = classifier.predict(X_train)\n",
    "    y_pred_test = classifier.predict(X_test)\n",
    "    end_test = time()   \n",
    "    results['pred_time'] = round((end_test-start_test), 2)\n",
    "            \n",
    "    # Model evaluation (training/testing data) using accuracy\n",
    "    results['acc_train'] = round(accuracy_score(y_train, y_pred_train), 2)\n",
    "    results['acc_test'] = round(accuracy_score(y_test, y_pred_test), 2)\n",
    "    \n",
    "    # Model evaluation (training/testing data) using f1-score\n",
    "    results['f1_train'] = round(f1_score(y_train, y_pred_train, average= average), 2)\n",
    "    results['f1_test'] = round(f1_score(y_test, y_pred_test, average= average), 2)\n",
    "    \n",
    "    # Display classification_report\n",
    "    report = classification_report(y_test, y_pred_test)\n",
    "       \n",
    "    \n",
    "    # Return the results\n",
    "    return results, report"
   ]
  },
  {
   "cell_type": "code",
   "execution_count": null,
   "id": "hZi1QHBRwe5O",
   "metadata": {
    "id": "hZi1QHBRwe5O"
   },
   "outputs": [],
   "source": [
    "from sklearn.model_selection import train_test_split\n",
    "\n",
    "X=FULL_DATA['Full_name'].values.tolist()\n",
    "y=pd.get_dummies(FULL_DATA['label'].values)"
   ]
  },
  {
   "cell_type": "code",
   "execution_count": null,
   "id": "wvstAwH9w3uf",
   "metadata": {
    "id": "wvstAwH9w3uf"
   },
   "outputs": [],
   "source": [
    "x_train, x_test, y_train, y_test = train_test_split(X, y, test_size=0.1)\n"
   ]
  },
  {
   "cell_type": "code",
   "execution_count": null,
   "id": "spGTuMy-w_IA",
   "metadata": {
    "colab": {
     "base_uri": "https://localhost:8080/"
    },
    "id": "spGTuMy-w_IA",
    "outputId": "69d6ee37-ba70-4113-aab5-2ff3e2bd2c9e"
   },
   "outputs": [
    {
     "name": "stdout",
     "output_type": "stream",
     "text": [
      "vocabulary :  559591\n"
     ]
    }
   ],
   "source": [
    "cv = CountVectorizer(binary=False,\n",
    "                     max_features=1500000,\n",
    "                    #  min_df=2\n",
    "                     )\n",
    "cv.fit(x_train)\n",
    "print(\"vocabulary : \",len(cv.vocabulary_))"
   ]
  },
  {
   "cell_type": "code",
   "execution_count": null,
   "id": "Q-4XJwXzx6zc",
   "metadata": {
    "id": "Q-4XJwXzx6zc"
   },
   "outputs": [],
   "source": [
    "# cv.vocabulary_"
   ]
  },
  {
   "cell_type": "code",
   "execution_count": null,
   "id": "uWKkoaUaxNe9",
   "metadata": {
    "id": "uWKkoaUaxNe9"
   },
   "outputs": [],
   "source": [
    "x_train_cv = cv.transform(x_train)\n",
    "x_test_cv = cv.transform(x_test) "
   ]
  },
  {
   "cell_type": "code",
   "execution_count": null,
   "id": "Ft3PNbVwyNsu",
   "metadata": {
    "colab": {
     "base_uri": "https://localhost:8080/"
    },
    "id": "Ft3PNbVwyNsu",
    "outputId": "7768ffa9-5eb9-4a0d-da4e-9f7b4d87b5a4"
   },
   "outputs": [
    {
     "name": "stdout",
     "output_type": "stream",
     "text": [
      "{'MultinomialNB': {'train_time': 0.38, 'pred_time': 0.21, 'acc_train': 0.96, 'acc_test': 0.83, 'f1_train': 0.96, 'f1_test': 0.82}}\n",
      "{'MultinomialNB': {'train_time': 0.38, 'pred_time': 0.21, 'acc_train': 0.96, 'acc_test': 0.83, 'f1_train': 0.96, 'f1_test': 0.82}, 'LogisticRegression': {'train_time': 35.02, 'pred_time': 0.07, 'acc_train': 1.0, 'acc_test': 1.0, 'f1_train': 1.0, 'f1_test': 1.0}}\n",
      "{'MultinomialNB': {'train_time': 0.38, 'pred_time': 0.21, 'acc_train': 0.96, 'acc_test': 0.83, 'f1_train': 0.96, 'f1_test': 0.82}, 'LogisticRegression': {'train_time': 35.02, 'pred_time': 0.07, 'acc_train': 1.0, 'acc_test': 1.0, 'f1_train': 1.0, 'f1_test': 1.0}, 'SGDClassifier': {'train_time': 436.35, 'pred_time': 0.04, 'acc_train': 0.95, 'acc_test': 0.95, 'f1_train': 0.95, 'f1_test': 0.95}}\n"
     ]
    }
   ],
   "source": [
    "clf_MNB = \n",
    "labels = ['f1_train', 'f1_test']\n",
    "y_label = 'F1_Score'\n",
    "title = 'Train/Test F1_Score per Classifier'\n",
    "eval_plot(labels, y_label, title)\n",
    "     ()\n",
    "clf_LR = LogisticRegression()\n",
    "clf_SVM=SGDClassifier(loss='hinge', penalty='l2',alpha=1e-3, random_state=42,\n",
    "                      # max_iter=100,\n",
    "                      tol=None)\n",
    "clf_list = [ clf_MNB, clf_LR, clf_SVM]\n",
    "\n",
    "# Compare evaluation of the different classifiers\n",
    "clf_evaluation = {}\n",
    "clf_report = {}\n",
    "\n",
    "for clf in clf_list:\n",
    "    clf_evaluation[clf.__class__.__name__], clf_report[clf.__class__.__name__] = train_predict(clf,\n",
    "                                                                                              x_train_cv,\n",
    "                                                                                              np.argmax(y_train.to_numpy(), axis=1),\n",
    "                                                                                              x_test_cv,\n",
    "                                                                                              np.argmax(y_test.to_numpy(), axis=1)\n",
    "                                                                                              )\n",
    "    print(clf_evaluation )"
   ]
  },
  {
   "cell_type": "code",
   "execution_count": null,
   "id": "nEWNE_OeyWX1",
   "metadata": {
    "colab": {
     "base_uri": "https://localhost:8080/"
    },
    "id": "nEWNE_OeyWX1",
    "outputId": "10bc145f-8fe0-40b7-96bd-acceeb8d80f7"
   },
   "outputs": [
    {
     "data": {
      "text/plain": [
       "{'MultinomialNB': {'train_time': 0.38,\n",
       "  'pred_time': 0.21,\n",
       "  'acc_train': 0.96,\n",
       "  'acc_test': 0.83,\n",
       "  'f1_train': 0.96,\n",
       "  'f1_test': 0.82},\n",
       " 'LogisticRegression': {'train_time': 35.02,\n",
       "  'pred_time': 0.07,\n",
       "  'acc_train': 1.0,\n",
       "  'acc_test': 1.0,\n",
       "  'f1_train': 1.0,\n",
       "  'f1_test': 1.0},\n",
       " 'SGDClassifier': {'train_time': 436.35,\n",
       "  'pred_time': 0.04,\n",
       "  'acc_train': 0.95,\n",
       "  'acc_test': 0.95,\n",
       "  'f1_train': 0.95,\n",
       "  'f1_test': 0.95}}"
      ]
     },
     "execution_count": 134,
     "metadata": {},
     "output_type": "execute_result"
    }
   ],
   "source": [
    "clf_evaluation"
   ]
  },
  {
   "cell_type": "code",
   "execution_count": null,
   "id": "QOFZ0TBMyb0w",
   "metadata": {
    "id": "QOFZ0TBMyb0w"
   },
   "outputs": [],
   "source": [
    "legend = []\n",
    "for i in range(len(clf_list)):\n",
    "    legend.append(clf_list[i].__class__.__name__)\n",
    "    \n",
    "def eval_plot(labels, y_label, title):\n",
    "\n",
    "    clf1 = [clf_evaluation[legend[0]][labels[0]], clf_evaluation[legend[0]][labels[1]]]\n",
    "    clf2 = [clf_evaluation[legend[1]][labels[0]], clf_evaluation[legend[1]][labels[1]]]\n",
    "    clf3 = [clf_evaluation[legend[2]][labels[0]], clf_evaluation[legend[2]][labels[1]]]\n",
    "\n",
    "    x = np.arange(len(labels))  # the label locations\n",
    "    width = 0.2  # the width of the bars\n",
    "\n",
    "    fig, ax = plt.subplots()\n",
    "    ax.bar(x - width/2, clf1, width, label=legend[0])\n",
    "    ax.bar(x + width/2, clf2, width, label=legend[1])\n",
    "    ax.bar(x + width*3/2, clf3, width, label=legend[2])\n",
    "\n",
    "    # Add labels, title, and legend\n",
    "    ax.set_ylabel(y_label)\n",
    "    ax.set_title(title)\n",
    "    ax.set_xticks(x)\n",
    "    ax.set_xticklabels(labels)\n",
    "    ax.legend(loc='center left', bbox_to_anchor=(1, 0.5))\n",
    "\n",
    "    # Add bars annotation\n",
    "    for i in ax.patches:\n",
    "        # get_x pulls left or right; get_height pushes up or down\n",
    "        ax.text(i.get_x()+(width/2), i.get_height()+0.01,\n",
    "                str(i.get_height()), fontsize=11,\n",
    "                color='black', ha='center')\n",
    "\n",
    "    plt.show()"
   ]
  },
  {
   "cell_type": "code",
   "execution_count": null,
   "id": "a1o8R3kEyp-T",
   "metadata": {
    "colab": {
     "base_uri": "https://localhost:8080/",
     "height": 282
    },
    "id": "a1o8R3kEyp-T",
    "outputId": "6fd64b65-38c8-430e-8dd5-1e095248c0c7"
   },
   "outputs": [
    {
     "data": {
      "image/png": "[encoded data removed]",
      "text/plain": [
       "<Figure size 432x288 with 1 Axes>"
      ]
     },
     "metadata": {
      "needs_background": "light"
     },
     "output_type": "display_data"
    }
   ],
   "source": [
    "labels = ['acc_train', 'acc_test']\n",
    "y_label = 'Acc_Score'\n",
    "title = 'Train/Test Accuracy per Classifier'\n",
    "eval_plot(labels, y_label, title)"
   ]
  },
  {
   "cell_type": "code",
   "execution_count": null,
   "id": "4y1-IK1MysMe",
   "metadata": {
    "colab": {
     "base_uri": "https://localhost:8080/",
     "height": 282
    },
    "id": "4y1-IK1MysMe",
    "outputId": "d719f1b6-ec92-4bee-fd0c-6c68278d1d5f"
   },
   "outputs": [
    {
     "data": {
      "image/png": "[encoded data removed]",
      "text/plain": [
       "<Figure size 432x288 with 1 Axes>"
      ]
     },
     "metadata": {
      "needs_background": "light"
     },
     "output_type": "display_data"
    }
   ],
   "source": [
    "\n",
    "labels = ['f1_train', 'f1_test']\n",
    "y_label = 'F1_Score'\n",
    "title = 'Train/Test F1_Score per Classifier'\n",
    "eval_plot(labels, y_label, title)\n",
    "     "
   ]
  },
  {
   "cell_type": "markdown",
   "id": "q3y4FqNo3xRC",
   "metadata": {
    "id": "q3y4FqNo3xRC"
   },
   "source": [
    "### 2- Deep Learning Approach"
   ]
  },
  {
   "cell_type": "code",
   "execution_count": 23,
   "id": "zK7q9fDuS3LE",
   "metadata": {
    "id": "zK7q9fDuS3LE"
   },
   "outputs": [],
   "source": [
    "import pandas as pd\n",
    "import numpy as np\n",
    "import os\n",
    "import re\n",
    "from tqdm import tqdm\n",
    "import matplotlib.pyplot as plt\n",
    "import csv\n",
    "\n",
    "%matplotlib inline"
   ]
  },
  {
   "cell_type": "code",
   "execution_count": 2,
   "id": "dFOn71y6Y10I",
   "metadata": {
    "colab": {
     "base_uri": "https://localhost:8080/"
    },
    "id": "dFOn71y6Y10I",
    "outputId": "68175b44-f6c5-45c9-a081-3d14804575bb"
   },
   "outputs": [
    {
     "name": "stdout",
     "output_type": "stream",
     "text": [
      "Mounted at /content/gdrive\n"
     ]
    }
   ],
   "source": [
    "from google.colab import drive\n",
    "drive.mount(\"/content/gdrive\")"
   ]
  },
  {
   "cell_type": "code",
   "execution_count": 5,
   "id": "w8x9GjUlYkqD",
   "metadata": {
    "id": "w8x9GjUlYkqD"
   },
   "outputs": [],
   "source": [
    "FULL_DATA = pd.read_csv(\"/content/FULL_DATA.csv\")"
   ]
  },
  {
   "cell_type": "code",
   "execution_count": 37,
   "id": "zRJTRn82eITI",
   "metadata": {
    "id": "zRJTRn82eITI"
   },
   "outputs": [],
   "source": [
    "FULL_DATA.drop('Unnamed: 0',axis=1,inplace=True)"
   ]
  },
  {
   "cell_type": "code",
   "execution_count": 42,
   "id": "VFKYmtbbeoa_",
   "metadata": {
    "id": "VFKYmtbbeoa_"
   },
   "outputs": [],
   "source": [
    "FULL_DATA.dropna(inplace=True)"
   ]
  },
  {
   "cell_type": "code",
   "execution_count": 45,
   "id": "LeOfrW3UfHOt",
   "metadata": {
    "id": "LeOfrW3UfHOt"
   },
   "outputs": [],
   "source": [
    "FULL_DATA['label'] = FULL_DATA['label'].astype(int)"
   ]
  },
  {
   "cell_type": "code",
   "execution_count": 47,
   "id": "B2Ju1pmBffIw",
   "metadata": {
    "colab": {
     "base_uri": "https://localhost:8080/",
     "height": 206
    },
    "id": "B2Ju1pmBffIw",
    "outputId": "cc9f8a24-bb61-4ed3-c84f-579c8b11ec16"
   },
   "outputs": [
    {
     "data": {
      "text/html": [
       "\n",
       "  <div id=\"df-1594fc3f-fe58-4c80-a440-235852cc7f84\">\n",
       "    <div class=\"colab-df-container\">\n",
       "      <div>\n",
       "<style scoped>\n",
       "    .dataframe tbody tr th:only-of-type {\n",
       "        vertical-align: middle;\n",
       "    }\n",
       "\n",
       "    .dataframe tbody tr th {\n",
       "        vertical-align: top;\n",
       "    }\n",
       "\n",
       "    .dataframe thead th {\n",
       "        text-align: right;\n",
       "    }\n",
       "</style>\n",
       "<table border=\"1\" class=\"dataframe\">\n",
       "  <thead>\n",
       "    <tr style=\"text-align: right;\">\n",
       "      <th></th>\n",
       "      <th>Full_name</th>\n",
       "      <th>label</th>\n",
       "    </tr>\n",
       "  </thead>\n",
       "  <tbody>\n",
       "    <tr>\n",
       "      <th>0</th>\n",
       "      <td>غنيم باسم شريت</td>\n",
       "      <td>1</td>\n",
       "    </tr>\n",
       "    <tr>\n",
       "      <th>1</th>\n",
       "      <td>منار عمار وفيق</td>\n",
       "      <td>0</td>\n",
       "    </tr>\n",
       "    <tr>\n",
       "      <th>2</th>\n",
       "      <td>بسيمةشساجعشفخاح</td>\n",
       "      <td>1</td>\n",
       "    </tr>\n",
       "    <tr>\n",
       "      <th>3</th>\n",
       "      <td>ذهم قتادة فوزي</td>\n",
       "      <td>1</td>\n",
       "    </tr>\n",
       "    <tr>\n",
       "      <th>4</th>\n",
       "      <td>صودهفائزهنقذ</td>\n",
       "      <td>1</td>\n",
       "    </tr>\n",
       "  </tbody>\n",
       "</table>\n",
       "</div>\n",
       "      <button class=\"colab-df-convert\" onclick=\"convertToInteractive('df-1594fc3f-fe58-4c80-a440-235852cc7f84')\"\n",
       "              title=\"Convert this dataframe to an interactive table.\"\n",
       "              style=\"display:none;\">\n",
       "        \n",
       "  <svg xmlns=\"http://www.w3.org/2000/svg\" height=\"24px\"viewBox=\"0 0 24 24\"\n",
       "       width=\"24px\">\n",
       "    <path d=\"M0 0h24v24H0V0z\" fill=\"none\"/>\n",
       "    <path d=\"M18.56 5.44l.94 2.06.94-2.06 2.06-.94-2.06-.94-.94-2.06-.94 2.06-2.06.94zm-11 1L8.5 8.5l.94-2.06 2.06-.94-2.06-.94L8.5 2.5l-.94 2.06-2.06.94zm10 10l.94 2.06.94-2.06 2.06-.94-2.06-.94-.94-2.06-.94 2.06-2.06.94z\"/><path d=\"M17.41 7.96l-1.37-1.37c-.4-.4-.92-.59-1.43-.59-.52 0-1.04.2-1.43.59L10.3 9.45l-7.72 7.72c-.78.78-.78 2.05 0 2.83L4 21.41c.39.39.9.59 1.41.59.51 0 1.02-.2 1.41-.59l7.78-7.78 2.81-2.81c.8-.78.8-2.07 0-2.86zM5.41 20L4 18.59l7.72-7.72 1.47 1.35L5.41 20z\"/>\n",
       "  </svg>\n",
       "      </button>\n",
       "      \n",
       "  <style>\n",
       "    .colab-df-container {\n",
       "      display:flex;\n",
       "      flex-wrap:wrap;\n",
       "      gap: 12px;\n",
       "    }\n",
       "\n",
       "    .colab-df-convert {\n",
       "      background-color: #E8F0FE;\n",
       "      border: none;\n",
       "      border-radius: 50%;\n",
       "      cursor: pointer;\n",
       "      display: none;\n",
       "      fill: #1967D2;\n",
       "      height: 32px;\n",
       "      padding: 0 0 0 0;\n",
       "      width: 32px;\n",
       "    }\n",
       "\n",
       "    .colab-df-convert:hover {\n",
       "      background-color: #E2EBFA;\n",
       "      box-shadow: 0px 1px 2px rgba(60, 64, 67, 0.3), 0px 1px 3px 1px rgba(60, 64, 67, 0.15);\n",
       "      fill: #174EA6;\n",
       "    }\n",
       "\n",
       "    [theme=dark] .colab-df-convert {\n",
       "      background-color: #3B4455;\n",
       "      fill: #D2E3FC;\n",
       "    }\n",
       "\n",
       "    [theme=dark] .colab-df-convert:hover {\n",
       "      background-color: #434B5C;\n",
       "      box-shadow: 0px 1px 3px 1px rgba(0, 0, 0, 0.15);\n",
       "      filter: drop-shadow(0px 1px 2px rgba(0, 0, 0, 0.3));\n",
       "      fill: #FFFFFF;\n",
       "    }\n",
       "  </style>\n",
       "\n",
       "      <script>\n",
       "        const buttonEl =\n",
       "          document.querySelector('#df-1594fc3f-fe58-4c80-a440-235852cc7f84 button.colab-df-convert');\n",
       "        buttonEl.style.display =\n",
       "          google.colab.kernel.accessAllowed ? 'block' : 'none';\n",
       "\n",
       "        async function convertToInteractive(key) {\n",
       "          const element = document.querySelector('#df-1594fc3f-fe58-4c80-a440-235852cc7f84');\n",
       "          const dataTable =\n",
       "            await google.colab.kernel.invokeFunction('convertToInteractive',\n",
       "                                                     [key], {});\n",
       "          if (!dataTable) return;\n",
       "\n",
       "          const docLinkHtml = 'Like what you see? Visit the ' +\n",
       "            '<a target=\"_blank\" href=https://colab.research.google.com/notebooks/data_table.ipynb>data table notebook</a>'\n",
       "            + ' to learn more about interactive tables.';\n",
       "          element.innerHTML = '';\n",
       "          dataTable['output_type'] = 'display_data';\n",
       "          await google.colab.output.renderOutput(dataTable, element);\n",
       "          const docLink = document.createElement('div');\n",
       "          docLink.innerHTML = docLinkHtml;\n",
       "          element.appendChild(docLink);\n",
       "        }\n",
       "      </script>\n",
       "    </div>\n",
       "  </div>\n",
       "  "
      ],
      "text/plain": [
       "         Full_name  label\n",
       "0   غنيم باسم شريت      1\n",
       "1   منار عمار وفيق      0\n",
       "2  بسيمةشساجعشفخاح      1\n",
       "3   ذهم قتادة فوزي      1\n",
       "4     صودهفائزهنقذ      1"
      ]
     },
     "execution_count": 47,
     "metadata": {},
     "output_type": "execute_result"
    }
   ],
   "source": [
    "FULL_DATA.head()"
   ]
  },
  {
   "cell_type": "code",
   "execution_count": 48,
   "id": "laDKy1WT8xPA",
   "metadata": {
    "id": "laDKy1WT8xPA"
   },
   "outputs": [],
   "source": [
    "X=FULL_DATA.Full_name.values\n",
    "y=FULL_DATA.label.values"
   ]
  },
  {
   "cell_type": "code",
   "execution_count": 49,
   "id": "zr03cGrL9Jbf",
   "metadata": {
    "id": "zr03cGrL9Jbf"
   },
   "outputs": [],
   "source": [
    "from sklearn.model_selection import train_test_split\n",
    "\n",
    "X_train, X_test, y_train, y_test = train_test_split(X, y, test_size=0.1)"
   ]
  },
  {
   "cell_type": "code",
   "execution_count": 50,
   "id": "s5Zz2oVJ6EqM",
   "metadata": {
    "id": "s5Zz2oVJ6EqM"
   },
   "outputs": [],
   "source": [
    "X_train, X_val, y_train, y_val = train_test_split(X_train,y_train,test_size=0.1, random_state=2022)"
   ]
  },
  {
   "cell_type": "code",
   "execution_count": 11,
   "id": "V0_Nk9E831YK",
   "metadata": {
    "colab": {
     "base_uri": "https://localhost:8080/"
    },
    "id": "V0_Nk9E831YK",
    "outputId": "23671050-019a-46e7-8bdc-709b26d3b204"
   },
   "outputs": [
    {
     "name": "stdout",
     "output_type": "stream",
     "text": [
      "There are 1 GPU(s) available.\n",
      "Device name: Tesla T4\n"
     ]
    }
   ],
   "source": [
    "import torch\n",
    "\n",
    "if torch.cuda.is_available():       \n",
    "    device = torch.device(\"cuda\")\n",
    "    print(f'There are {torch.cuda.device_count()} GPU(s) available.')\n",
    "    print('Device name:', torch.cuda.get_device_name(0))\n",
    "\n",
    "else:\n",
    "    print('No GPU available, using the CPU instead.')\n",
    "    device = torch.device(\"cpu\")"
   ]
  },
  {
   "cell_type": "code",
   "execution_count": 16,
   "id": "ow4Ty7QJ5ut-",
   "metadata": {
    "id": "ow4Ty7QJ5ut-"
   },
   "outputs": [],
   "source": [
    "# !pip install transformers"
   ]
  },
  {
   "cell_type": "code",
   "execution_count": 14,
   "id": "T3FLOvsv4Eei",
   "metadata": {
    "id": "T3FLOvsv4Eei"
   },
   "outputs": [],
   "source": [
    "from transformers import AutoTokenizer, AutoModel"
   ]
  },
  {
   "cell_type": "code",
   "execution_count": 15,
   "id": "eBc4iUMa4EhX",
   "metadata": {
    "colab": {
     "base_uri": "https://localhost:8080/",
     "height": 145,
     "referenced_widgets": [
      "761d3df714654dcebfff12e8614d2f3a",
      "db6bd605310d433a922ccb57ee0e9db8",
      "228b68c55c05434f96bf84cd6e4f7705",
      "b934f828fe0746d78a9fec6ac33d7a80",
      "74df18d3b6494f4582ea07da2164cf01",
      "84f9e6a140e9453385d319ca86113c4b",
      "af34a336c93e49b3807793869e982f5f",
      "57853d530d7d49b8b43923688a3df8d4",
      "6eb9e567ba96448f80bf3c96bfa375ae",
      "3fe7e259d3424bdf8f6415697827fb3e",
      "319ba2aa01064ccfa323b3f6ff6b15a9",
      "8a46652d8b594419a73330c2c54eeebf",
      "41096aa2c4114b59a25edbbfae42e4d6",
      "2acec3aa4170411b854d427b583a12e5",
      "670eefdbb2a344ba8f97992d4a43e607",
      "c2f4680a8ccd4752b6f9fa22da3f8673",
      "0d68c7b44ddf4bb681e1cf590155c6ea",
      "81c3a1708da24046bfb824d120f37525",
      "b88f840de3df466ba98553ac96fcbcff",
      "de5708c77d99400897f252dc51093d62",
      "4d5e15ad839f4b1ca473010b01983b80",
      "d8c727f1611b4b54a6af6deb78ef645c",
      "db97ebaf59644859b3e5673413ea8919",
      "74aed4aabd354a0ea21e68dc603f8ae8",
      "01acf79c7c704d36b1e67fda94313322",
      "1ec4ea16f6fc448ca29561ecd5108e99",
      "7507f8f257a8444bb46a105386281ca2",
      "e432f57a279f4dda9476df8776aae3b6",
      "eba1ab6335d6493193f835573ece8ca9",
      "da7e681827aa4c94855110abcb175d17",
      "f7366b3f5fb94646a89e9e49c7ed473b",
      "1eb0296adc0e4fa3aa6abd885753588f",
      "ac9bd92c048f4f88bc9df9ba32811c7b",
      "9ab56c472b834e34aa4affd7cdcba6fd",
      "9d3087fb42f141c9b6f7c73f990af111",
      "625acfb7fa1548f193acf4bcb4791197",
      "07908a60c9a44d0bbf461388135f5729",
      "39a41753270348e789dfbc738aa38999",
      "7d409eef5dd74e9ca97d05bbfd76816d",
      "c285ba0de08447fe94ac9f8800bd627e",
      "ad2fa29002184be5bd4d94733565d204",
      "26b40c034e2346e88f7c772fe84764fb",
      "5866fdea2b344f2b9e617faa04047c13",
      "23f11579604f44a2ab7f94a3975a9355"
     ]
    },
    "id": "eBc4iUMa4EhX",
    "outputId": "cf93bf7a-5a5e-4890-9366-2ebfd045d025"
   },
   "outputs": [
    {
     "data": {
      "application/vnd.jupyter.widget-view+json": {
       "model_id": "761d3df714654dcebfff12e8614d2f3a",
       "version_major": 2,
       "version_minor": 0
      },
      "text/plain": [
       "Downloading:   0%|          | 0.00/62.0 [00:00<?, ?B/s]"
      ]
     },
     "metadata": {},
     "output_type": "display_data"
    },
    {
     "data": {
      "application/vnd.jupyter.widget-view+json": {
       "model_id": "8a46652d8b594419a73330c2c54eeebf",
       "version_major": 2,
       "version_minor": 0
      },
      "text/plain": [
       "Downloading:   0%|          | 0.00/509 [00:00<?, ?B/s]"
      ]
     },
     "metadata": {},
     "output_type": "display_data"
    },
    {
     "data": {
      "application/vnd.jupyter.widget-view+json": {
       "model_id": "db97ebaf59644859b3e5673413ea8919",
       "version_major": 2,
       "version_minor": 0
      },
      "text/plain": [
       "Downloading:   0%|          | 0.00/334k [00:00<?, ?B/s]"
      ]
     },
     "metadata": {},
     "output_type": "display_data"
    },
    {
     "data": {
      "application/vnd.jupyter.widget-view+json": {
       "model_id": "9ab56c472b834e34aa4affd7cdcba6fd",
       "version_major": 2,
       "version_minor": 0
      },
      "text/plain": [
       "Downloading:   0%|          | 0.00/112 [00:00<?, ?B/s]"
      ]
     },
     "metadata": {},
     "output_type": "display_data"
    }
   ],
   "source": [
    "tokenizer = AutoTokenizer.from_pretrained(\"asafaya/bert-mini-arabic\")"
   ]
  },
  {
   "cell_type": "code",
   "execution_count": 20,
   "id": "wTmTc8XP4EkZ",
   "metadata": {
    "id": "wTmTc8XP4EkZ"
   },
   "outputs": [],
   "source": [
    "def text_preprocessing(text):\n",
    "    \"\"\"\n",
    "    - Remove entity mentions (eg. '@united')\n",
    "    - Correct errors (eg. '&amp;' to '&')\n",
    "    @param    text (str): a string to be processed.\n",
    "    @return   text (Str): the processed string.\n",
    "    \"\"\"\n",
    "  \n",
    "\n",
    "    # Normalize unicode encoding\n",
    "    text = unicodedata.normalize('NFC', text)\n",
    "    # Remove '@name'\n",
    "    text = re.sub(r'(@.*?)[\\s]', ' ', text)\n",
    "\n",
    "    # Replace '&amp;' with '&'\n",
    "    text = re.sub(r'&amp;', '&', text)\n",
    "\n",
    "    # Remove trailing whitespace\n",
    "    text = re.sub(r'\\s+', ' ', text).strip()\n",
    "    \n",
    "    #Remove URLs\n",
    "    text = re.sub(r'^https?:\\/\\/.*[\\r\\n]*', '<URL>', text)\n",
    "\n",
    "\n",
    "    return text"
   ]
  },
  {
   "cell_type": "code",
   "execution_count": 19,
   "id": "hi5eduDY6OeI",
   "metadata": {
    "id": "hi5eduDY6OeI"
   },
   "outputs": [],
   "source": [
    "# !pip install emoji"
   ]
  },
  {
   "cell_type": "code",
   "execution_count": 21,
   "id": "yTw0uqwU4jCY",
   "metadata": {
    "id": "yTw0uqwU4jCY"
   },
   "outputs": [],
   "source": [
    "import emoji\n",
    "import unicodedata\n",
    "def preprocessing_for_bert(data, version=\"mini\", text_preprocessing_fn = text_preprocessing ):\n",
    "    \"\"\"Perform required preprocessing steps for pretrained BERT.\n",
    "    @param    data (np.array): Array of texts to be processed.\n",
    "    @return   input_ids (torch.Tensor): Tensor of token ids to be fed to a model.\n",
    "    @return   attention_masks (torch.Tensor): Tensor of indices specifying which\n",
    "                  tokens should be attended to by the model.\n",
    "    \"\"\"\n",
    "    # Create empty lists to store outputs\n",
    "    input_ids = []\n",
    "    attention_masks = []\n",
    "    tokenizer = AutoTokenizer.from_pretrained(\"asafaya/bert-mini-arabic\") if version == \"mini\" else AutoTokenizer.from_pretrained(\"asafaya/bert-base-arabic\")\n",
    "\n",
    "    # For every sentence...\n",
    "    for i,sent in enumerate(data):\n",
    "        # `encode_plus` will:\n",
    "        #    (1) Tokenize the sentence\n",
    "        #    (2) Add the `[CLS]` and `[SEP]` token to the start and end\n",
    "        #    (3) Truncate/Pad sentence to max length\n",
    "        #    (4) Map tokens to their IDs\n",
    "        #    (5) Create attention mask\n",
    "        #    (6) Return a dictionary of outputs\n",
    "        encoded_sent = tokenizer.encode_plus(\n",
    "            text=text_preprocessing_fn(sent),  # Preprocess sentence\n",
    "            add_special_tokens=True,        # Add `[CLS]` and `[SEP]`\n",
    "            max_length=MAX_LEN,                  # Max length to truncate/pad\n",
    "            padding='max_length',        # Pad sentence to max length\n",
    "            #return_tensors='pt',           # Return PyTorch tensor\n",
    "            return_attention_mask=True,     # Return attention mask\n",
    "            truncation = True \n",
    "            )\n",
    "        \n",
    "        # Add the outputs to the lists\n",
    "        input_ids.append(encoded_sent.get('input_ids'))\n",
    "        attention_masks.append(encoded_sent.get('attention_mask'))\n",
    "    # Convert lists to tensors\n",
    "    input_ids = torch.tensor(input_ids)\n",
    "    attention_masks = torch.tensor(attention_masks)\n",
    "\n",
    "    return input_ids, attention_masks"
   ]
  },
  {
   "cell_type": "code",
   "execution_count": 53,
   "id": "IKwL2zaL4jFy",
   "metadata": {
    "colab": {
     "base_uri": "https://localhost:8080/"
    },
    "id": "IKwL2zaL4jFy",
    "outputId": "16bf5d1e-98d3-4517-eca4-756d2a3c88d8"
   },
   "outputs": [
    {
     "name": "stdout",
     "output_type": "stream",
     "text": [
      "Original:  غنيم باسم شريت\n",
      "Token IDs:  [2, 17489, 1010, 3644, 20552, 1013, 3, 0, 0, 0]\n",
      "Tokenizing data...\n"
     ]
    }
   ],
   "source": [
    "# Specify `MAX_LEN`\n",
    "MAX_LEN =  10\n",
    "\n",
    "# Print sentence 0 and its encoded token ids\n",
    "token_ids = list(preprocessing_for_bert([X[0]])[0].squeeze().numpy())\n",
    "print('Original: ', X[0])\n",
    "print('Token IDs: ', token_ids)\n",
    "\n",
    "# Run function `preprocessing_for_bert` on the train set and the validation set\n",
    "print('Tokenizing data...')\n",
    "train_inputs, train_masks = preprocessing_for_bert(X_train)\n",
    "val_inputs, val_masks = preprocessing_for_bert(X_val)"
   ]
  },
  {
   "cell_type": "code",
   "execution_count": 54,
   "id": "DEGU2eRa4jJQ",
   "metadata": {
    "id": "DEGU2eRa4jJQ"
   },
   "outputs": [],
   "source": [
    "from torch.utils.data import TensorDataset, DataLoader, RandomSampler, SequentialSampler\n",
    "\n",
    "# Convert other data types to torch.Tensor\n",
    "train_labels = torch.tensor(y_train)\n",
    "val_labels = torch.tensor(y_val)\n",
    "\n",
    "# For fine-tuning BERT, the authors recommend a batch size of 16 or 32.\n",
    "batch_size = 64\n",
    "\n",
    "# Create the DataLoader for our training set\n",
    "train_data = TensorDataset(train_inputs, train_masks, train_labels)\n",
    "train_sampler = RandomSampler(train_data)\n",
    "train_dataloader = DataLoader(train_data, sampler=train_sampler, batch_size=batch_size)\n",
    "\n",
    "# Create the DataLoader for our validation set\n",
    "val_data = TensorDataset(val_inputs, val_masks, val_labels)\n",
    "val_sampler = SequentialSampler(val_data)\n",
    "val_dataloader = DataLoader(val_data, sampler=val_sampler, batch_size=batch_size)"
   ]
  },
  {
   "cell_type": "code",
   "execution_count": 30,
   "id": "pzo-JZBs6n0j",
   "metadata": {
    "colab": {
     "base_uri": "https://localhost:8080/"
    },
    "id": "pzo-JZBs6n0j",
    "outputId": "bb2acc06-1c8e-41a7-9773-fe5b790630a6"
   },
   "outputs": [
    {
     "name": "stdout",
     "output_type": "stream",
     "text": [
      "CPU times: user 47.8 ms, sys: 3.14 ms, total: 50.9 ms\n",
      "Wall time: 83.6 ms\n"
     ]
    }
   ],
   "source": [
    "%%time\n",
    "import torch\n",
    "import torch.nn as nn\n",
    "from transformers import BertModel\n",
    "\n",
    "# Create the BertClassfier class\n",
    "class BertClassifier(nn.Module):\n",
    "    \"\"\"Bert Model for Classification Tasks.\n",
    "    \"\"\"\n",
    "    def __init__(self, freeze_bert=False, version=\"mini\"):\n",
    "        \"\"\"\n",
    "        @param    bert: a BertModel object\n",
    "        @param    classifier: a torch.nn.Module classifier\n",
    "        @param    freeze_bert (bool): Set `False` to fine-tune the BERT model\n",
    "        \"\"\"\n",
    "        super(BertClassifier, self).__init__()\n",
    "        # Specify hidden size of BERT, hidden size of our classifier, and number of labels\n",
    "        D_in = 256 if version == \"mini\" else 768\n",
    "        H, D_out = 50, 2\n",
    "\n",
    "        # Instantiate BERT model\n",
    "        self.bert = AutoModel.from_pretrained(\"asafaya/bert-mini-arabic\") if version == \"mini\" else AutoModel.from_pretrained(\"asafaya/bert-base-arabic\")\n",
    "        # Instantiate an one-layer feed-forward classifier\n",
    "        self.classifier = nn.Sequential(\n",
    "            nn.Linear(D_in, H),\n",
    "            nn.ReLU(),\n",
    "            nn.Dropout(0.5),\n",
    "            nn.Linear(H, D_out)\n",
    "        )\n",
    "\n",
    "        # Freeze the BERT model\n",
    "        if freeze_bert:\n",
    "            for param in self.bert.parameters():\n",
    "                param.requires_grad = False\n",
    "        \n",
    "    def forward(self, input_ids, attention_mask):\n",
    "        \"\"\"\n",
    "        Feed input to BERT and the classifier to compute logits.\n",
    "        @param    input_ids (torch.Tensor): an input tensor with shape (batch_size,\n",
    "                      max_length)\n",
    "        @param    attention_mask (torch.Tensor): a tensor that hold attention mask\n",
    "                      information with shape (batch_size, max_length)\n",
    "        @return   logits (torch.Tensor): an output tensor with shape (batch_size,\n",
    "                      num_labels)\n",
    "        \"\"\"\n",
    "        # Feed input to BERT\n",
    "        outputs = self.bert(input_ids=input_ids,\n",
    "                            attention_mask=attention_mask)\n",
    "        \n",
    "        # Extract the last hidden state of the token `[CLS]` for classification task\n",
    "        last_hidden_state_cls = outputs[0][:, 0, :]\n",
    "\n",
    "        # Feed input to classifier to compute logits\n",
    "        logits = self.classifier(last_hidden_state_cls)\n",
    "\n",
    "        return logits"
   ]
  },
  {
   "cell_type": "code",
   "execution_count": 31,
   "id": "BZFnTPR86n8A",
   "metadata": {
    "id": "BZFnTPR86n8A"
   },
   "outputs": [],
   "source": [
    "from transformers import AdamW, get_linear_schedule_with_warmup\n",
    "from torch.optim import SparseAdam, Adam\n",
    "\n",
    "def initialize_model(epochs=4, version=\"mini\"):\n",
    "    \"\"\"Initialize the Bert Classifier, the optimizer and the learning rate scheduler.\n",
    "    \"\"\"\n",
    "    # Instantiate Bert Classifier\n",
    "    bert_classifier = BertClassifier(freeze_bert=False, version=version)\n",
    "    # Tell PyTorch to run the model on GPU\n",
    "    bert_classifier.to(device)\n",
    "\n",
    "    # Create the optimizer\n",
    "    optimizer = AdamW(params=list(bert_classifier.parameters()),\n",
    "                      lr=5e-5,    # Default learning rate\n",
    "                      eps=1e-8    # Default epsilon value\n",
    "                      )\n",
    "\n",
    "    # Total number of training steps\n",
    "    total_steps = len(train_dataloader) * epochs\n",
    "\n",
    "    # Set up the learning rate scheduler\n",
    "    scheduler = get_linear_schedule_with_warmup(optimizer,\n",
    "                                                num_warmup_steps=0, # Default value\n",
    "                                                num_training_steps=total_steps)\n",
    "    return bert_classifier, optimizer, scheduler"
   ]
  },
  {
   "cell_type": "code",
   "execution_count": 32,
   "id": "yw7Utv5A6oC3",
   "metadata": {
    "id": "yw7Utv5A6oC3"
   },
   "outputs": [],
   "source": [
    "import random\n",
    "import time\n",
    "import torch\n",
    "import torch.nn as nn\n",
    "\n",
    "# Specify loss function\n",
    "loss_fn = nn.CrossEntropyLoss()\n",
    "\n",
    "def set_seed(seed_value=42):\n",
    "    \"\"\"Set seed for reproducibility.\n",
    "    \"\"\"\n",
    "    random.seed(seed_value)\n",
    "    np.random.seed(seed_value)\n",
    "    torch.manual_seed(seed_value)\n",
    "    torch.cuda.manual_seed_all(seed_value)\n",
    "\n",
    "def train(model, train_dataloader, val_dataloader=None, epochs=4, evaluation=False):\n",
    "    \"\"\"Train the BertClassifier model.\n",
    "    \"\"\"\n",
    "    # Start training loop\n",
    "    print(\"Start training...\\n\")\n",
    "    for epoch_i in range(epochs):\n",
    "        # =======================================\n",
    "        #               Training\n",
    "        # =======================================\n",
    "        # Print the header of the result table\n",
    "        print(f\"{'Epoch':^7} | {'Batch':^7} | {'Train Loss':^12} | {'Val Loss':^10} | {'Val Acc':^9} | {'Elapsed':^9}\")\n",
    "        print(\"-\"*70)\n",
    "\n",
    "        # Measure the elapsed time of each epoch\n",
    "        t0_epoch, t0_batch = time.time(), time.time()\n",
    "\n",
    "        # Reset tracking variables at the beginning of each epoch\n",
    "        total_loss, batch_loss, batch_counts = 0, 0, 0\n",
    "\n",
    "        # Put the model into the training mode\n",
    "        model.train()\n",
    "\n",
    "        # For each batch of training data...\n",
    "        for step, batch in enumerate(train_dataloader):\n",
    "            batch_counts +=1\n",
    "            # Load batch to GPU\n",
    "            b_input_ids, b_attn_mask, b_labels = tuple(t.to(device) for t in batch)\n",
    "\n",
    "            # Zero out any previously calculated gradients\n",
    "            model.zero_grad()\n",
    "\n",
    "            # Perform a forward pass. This will return logits.\n",
    "            logits = model(b_input_ids, b_attn_mask)\n",
    "\n",
    "            # Compute loss and accumulate the loss values\n",
    "            loss = loss_fn(logits, b_labels)\n",
    "            batch_loss += loss.item()\n",
    "            total_loss += loss.item()\n",
    "\n",
    "            # Perform a backward pass to calculate gradients\n",
    "            loss.backward()\n",
    "\n",
    "            # Clip the norm of the gradients to 1.0 to prevent \"exploding gradients\"\n",
    "            torch.nn.utils.clip_grad_norm_(model.parameters(), 1.0)\n",
    "\n",
    "            # Update parameters and the learning rate\n",
    "            optimizer.step()\n",
    "            scheduler.step()\n",
    "\n",
    "            # Print the loss values and time elapsed for every 20 batches\n",
    "            if (step % 20 == 0 and step != 0) or (step == len(train_dataloader) - 1):\n",
    "                # Calculate time elapsed for 20 batches\n",
    "                time_elapsed = time.time() - t0_batch\n",
    "\n",
    "                # Print training results\n",
    "                print(f\"{epoch_i + 1:^7} | {step:^7} | {batch_loss / batch_counts:^12.6f} | {'-':^10} | {'-':^9} | {time_elapsed:^9.2f}\")\n",
    "\n",
    "                # Reset batch tracking variables\n",
    "                batch_loss, batch_counts = 0, 0\n",
    "                t0_batch = time.time()\n",
    "\n",
    "        # Calculate the average loss over the entire training data\n",
    "        avg_train_loss = total_loss / len(train_dataloader)\n",
    "\n",
    "        print(\"-\"*70)\n",
    "        # =======================================\n",
    "        #               Evaluation\n",
    "        # =======================================\n",
    "        if evaluation == True:\n",
    "            # After the completion of each training epoch, measure the model's performance\n",
    "            # on our validation set.\n",
    "            val_loss, val_accuracy = evaluate(model, val_dataloader)\n",
    "\n",
    "            # Print performance over the entire training data\n",
    "            time_elapsed = time.time() - t0_epoch\n",
    "            \n",
    "            print(f\"{epoch_i + 1:^7} | {'-':^7} | {avg_train_loss:^12.6f} | {val_loss:^10.6f} | {val_accuracy:^9.2f} | {time_elapsed:^9.2f}\")\n",
    "            print(\"-\"*70)\n",
    "        print(\"\\n\")\n",
    "    \n",
    "    print(\"Training complete!\")\n",
    "\n",
    "\n",
    "def evaluate(model, val_dataloader):\n",
    "    \"\"\"After the completion of each training epoch, measure the model's performance\n",
    "    on our validation set.\n",
    "    \"\"\"\n",
    "    # Put the model into the evaluation mode. The dropout layers are disabled during\n",
    "    # the test time.\n",
    "    model.eval()\n",
    "\n",
    "    # Tracking variables\n",
    "    val_accuracy = []\n",
    "    val_loss = []\n",
    "\n",
    "    # For each batch in our validation set...\n",
    "    for batch in val_dataloader:\n",
    "        # Load batch to GPU\n",
    "        b_input_ids, b_attn_mask, b_labels = tuple(t.to(device) for t in batch)\n",
    "\n",
    "        # Compute logits\n",
    "        with torch.no_grad():\n",
    "            logits = model(b_input_ids, b_attn_mask)\n",
    "\n",
    "        # Compute loss\n",
    "        loss = loss_fn(logits, b_labels)\n",
    "        val_loss.append(loss.item())\n",
    "\n",
    "        # Get the predictions\n",
    "        preds = torch.argmax(logits, dim=1).flatten()\n",
    "\n",
    "        # Calculate the accuracy rate\n",
    "        accuracy = (preds == b_labels).cpu().numpy().mean() * 100\n",
    "        val_accuracy.append(accuracy)\n",
    "\n",
    "    # Compute the average accuracy and loss over the validation set.\n",
    "    val_loss = np.mean(val_loss)\n",
    "    val_accuracy = np.mean(val_accuracy)\n",
    "\n",
    "    return val_loss, val_accuracy"
   ]
  },
  {
   "cell_type": "code",
   "execution_count": 55,
   "id": "FGRnCZDt6oJf",
   "metadata": {
    "colab": {
     "base_uri": "https://localhost:8080/"
    },
    "id": "FGRnCZDt6oJf",
    "outputId": "062dd5c0-329a-4fa0-c1c6-1468cdcb72ae"
   },
   "outputs": [
    {
     "name": "stderr",
     "output_type": "stream",
     "text": [
      "Some weights of the model checkpoint at asafaya/bert-mini-arabic were not used when initializing BertModel: ['cls.predictions.decoder.weight', 'cls.predictions.transform.LayerNorm.weight', 'cls.predictions.bias', 'cls.predictions.transform.LayerNorm.bias', 'cls.predictions.transform.dense.bias', 'cls.predictions.decoder.bias', 'cls.predictions.transform.dense.weight']\n",
      "- This IS expected if you are initializing BertModel from the checkpoint of a model trained on another task or with another architecture (e.g. initializing a BertForSequenceClassification model from a BertForPreTraining model).\n",
      "- This IS NOT expected if you are initializing BertModel from the checkpoint of a model that you expect to be exactly identical (initializing a BertForSequenceClassification model from a BertForSequenceClassification model).\n"
     ]
    },
    {
     "name": "stdout",
     "output_type": "stream",
     "text": [
      "Start training...\n",
      "\n",
      " Epoch  |  Batch  |  Train Loss  |  Val Loss  |  Val Acc  |  Elapsed \n",
      "----------------------------------------------------------------------\n",
      "   1    |   20    |   0.605764   |     -      |     -     |   0.70   \n",
      "   1    |   40    |   0.471532   |     -      |     -     |   0.62   \n",
      "   1    |   60    |   0.440291   |     -      |     -     |   0.59   \n",
      "   1    |   80    |   0.397099   |     -      |     -     |   0.59   \n",
      "   1    |   100   |   0.356152   |     -      |     -     |   0.60   \n",
      "   1    |   120   |   0.332348   |     -      |     -     |   0.59   \n",
      "   1    |   140   |   0.299259   |     -      |     -     |   0.72   \n",
      "   1    |   160   |   0.303432   |     -      |     -     |   0.45   \n",
      "   1    |   180   |   0.270523   |     -      |     -     |   0.40   \n",
      "   1    |   200   |   0.262373   |     -      |     -     |   0.41   \n",
      "   1    |   220   |   0.200804   |     -      |     -     |   0.39   \n",
      "   1    |   240   |   0.194789   |     -      |     -     |   0.37   \n",
      "   1    |   260   |   0.174674   |     -      |     -     |   0.37   \n",
      "   1    |   280   |   0.244827   |     -      |     -     |   0.38   \n",
      "   1    |   300   |   0.212886   |     -      |     -     |   0.37   \n",
      "   1    |   320   |   0.175685   |     -      |     -     |   0.38   \n",
      "   1    |   340   |   0.176865   |     -      |     -     |   0.38   \n",
      "   1    |   360   |   0.186443   |     -      |     -     |   0.37   \n",
      "   1    |   380   |   0.157582   |     -      |     -     |   0.37   \n",
      "   1    |   400   |   0.175383   |     -      |     -     |   0.36   \n",
      "   1    |   420   |   0.148778   |     -      |     -     |   0.38   \n",
      "   1    |   440   |   0.152962   |     -      |     -     |   0.48   \n",
      "   1    |   460   |   0.131887   |     -      |     -     |   0.99   \n",
      "   1    |   480   |   0.137582   |     -      |     -     |   0.37   \n",
      "   1    |   500   |   0.139476   |     -      |     -     |   0.39   \n",
      "   1    |   520   |   0.134888   |     -      |     -     |   0.37   \n",
      "   1    |   540   |   0.132412   |     -      |     -     |   0.37   \n",
      "   1    |   560   |   0.131438   |     -      |     -     |   0.40   \n",
      "   1    |   580   |   0.119166   |     -      |     -     |   0.37   \n",
      "   1    |   600   |   0.122361   |     -      |     -     |   0.38   \n",
      "   1    |   620   |   0.109914   |     -      |     -     |   0.38   \n",
      "   1    |   640   |   0.129370   |     -      |     -     |   0.37   \n",
      "   1    |   660   |   0.109205   |     -      |     -     |   0.38   \n",
      "   1    |   680   |   0.109182   |     -      |     -     |   0.38   \n",
      "   1    |   700   |   0.112319   |     -      |     -     |   0.40   \n",
      "   1    |   720   |   0.111024   |     -      |     -     |   0.39   \n",
      "   1    |   740   |   0.108787   |     -      |     -     |   0.39   \n",
      "   1    |   760   |   0.158917   |     -      |     -     |   0.39   \n",
      "   1    |   780   |   0.113211   |     -      |     -     |   0.37   \n",
      "   1    |   800   |   0.111875   |     -      |     -     |   0.37   \n",
      "   1    |   820   |   0.093591   |     -      |     -     |   0.38   \n",
      "   1    |   840   |   0.126620   |     -      |     -     |   0.38   \n",
      "   1    |   860   |   0.106492   |     -      |     -     |   0.38   \n",
      "   1    |   880   |   0.095058   |     -      |     -     |   0.39   \n",
      "   1    |   900   |   0.087825   |     -      |     -     |   0.38   \n",
      "   1    |   920   |   0.089246   |     -      |     -     |   0.38   \n",
      "   1    |   940   |   0.107805   |     -      |     -     |   0.39   \n",
      "   1    |   960   |   0.078805   |     -      |     -     |   0.53   \n",
      "   1    |   980   |   0.085634   |     -      |     -     |   1.08   \n",
      "   1    |  1000   |   0.091177   |     -      |     -     |   0.37   \n",
      "   1    |  1020   |   0.097682   |     -      |     -     |   0.37   \n",
      "   1    |  1040   |   0.081423   |     -      |     -     |   0.40   \n",
      "   1    |  1060   |   0.087311   |     -      |     -     |   0.39   \n",
      "   1    |  1080   |   0.099058   |     -      |     -     |   0.37   \n",
      "   1    |  1100   |   0.084179   |     -      |     -     |   0.38   \n",
      "   1    |  1120   |   0.087693   |     -      |     -     |   0.38   \n",
      "   1    |  1140   |   0.065206   |     -      |     -     |   0.39   \n",
      "   1    |  1160   |   0.102091   |     -      |     -     |   0.39   \n",
      "   1    |  1180   |   0.101029   |     -      |     -     |   0.38   \n",
      "   1    |  1200   |   0.066342   |     -      |     -     |   0.41   \n",
      "   1    |  1220   |   0.069020   |     -      |     -     |   0.36   \n",
      "   1    |  1240   |   0.087127   |     -      |     -     |   0.37   \n",
      "   1    |  1260   |   0.121177   |     -      |     -     |   0.38   \n",
      "   1    |  1280   |   0.075120   |     -      |     -     |   0.38   \n",
      "   1    |  1300   |   0.087284   |     -      |     -     |   0.38   \n",
      "   1    |  1320   |   0.091930   |     -      |     -     |   0.40   \n",
      "   1    |  1340   |   0.075261   |     -      |     -     |   0.38   \n",
      "   1    |  1360   |   0.081633   |     -      |     -     |   0.37   \n",
      "   1    |  1380   |   0.061697   |     -      |     -     |   0.39   \n",
      "   1    |  1400   |   0.093841   |     -      |     -     |   0.37   \n",
      "   1    |  1420   |   0.086679   |     -      |     -     |   0.38   \n",
      "   1    |  1440   |   0.078734   |     -      |     -     |   0.38   \n",
      "   1    |  1460   |   0.076780   |     -      |     -     |   0.37   \n",
      "   1    |  1480   |   0.067080   |     -      |     -     |   0.37   \n",
      "   1    |  1500   |   0.059435   |     -      |     -     |   0.38   \n",
      "   1    |  1520   |   0.055062   |     -      |     -     |   0.39   \n",
      "   1    |  1540   |   0.077275   |     -      |     -     |   0.37   \n",
      "   1    |  1560   |   0.068142   |     -      |     -     |   0.36   \n",
      "   1    |  1580   |   0.081193   |     -      |     -     |   0.39   \n",
      "   1    |  1600   |   0.071680   |     -      |     -     |   0.37   \n",
      "   1    |  1620   |   0.106616   |     -      |     -     |   0.42   \n",
      "   1    |  1640   |   0.086803   |     -      |     -     |   0.38   \n",
      "   1    |  1660   |   0.049323   |     -      |     -     |   0.51   \n",
      "   1    |  1680   |   0.081849   |     -      |     -     |   0.81   \n",
      "   1    |  1700   |   0.073839   |     -      |     -     |   0.73   \n",
      "   1    |  1720   |   0.061008   |     -      |     -     |   1.04   \n",
      "   1    |  1740   |   0.062257   |     -      |     -     |   1.17   \n",
      "   1    |  1760   |   0.093038   |     -      |     -     |   1.15   \n",
      "   1    |  1780   |   0.048256   |     -      |     -     |   0.65   \n",
      "   1    |  1800   |   0.061048   |     -      |     -     |   0.55   \n",
      "   1    |  1820   |   0.061196   |     -      |     -     |   0.57   \n",
      "   1    |  1840   |   0.065050   |     -      |     -     |   0.57   \n",
      "   1    |  1860   |   0.047970   |     -      |     -     |   0.57   \n",
      "   1    |  1880   |   0.087895   |     -      |     -     |   0.61   \n",
      "   1    |  1900   |   0.068320   |     -      |     -     |   0.57   \n",
      "   1    |  1920   |   0.076228   |     -      |     -     |   0.59   \n",
      "   1    |  1940   |   0.057350   |     -      |     -     |   0.82   \n",
      "   1    |  1960   |   0.068495   |     -      |     -     |   0.38   \n",
      "   1    |  1980   |   0.067002   |     -      |     -     |   0.37   \n",
      "   1    |  2000   |   0.071740   |     -      |     -     |   0.37   \n",
      "   1    |  2020   |   0.054016   |     -      |     -     |   0.37   \n",
      "   1    |  2040   |   0.055698   |     -      |     -     |   0.37   \n",
      "   1    |  2060   |   0.095962   |     -      |     -     |   0.38   \n",
      "   1    |  2080   |   0.072845   |     -      |     -     |   0.36   \n",
      "   1    |  2100   |   0.076470   |     -      |     -     |   0.37   \n",
      "   1    |  2104   |   0.053869   |     -      |     -     |   0.08   \n",
      "----------------------------------------------------------------------\n",
      "   1    |    -    |   0.126890   |  0.047759  |   98.78   |   49.58  \n",
      "----------------------------------------------------------------------\n",
      "\n",
      "\n",
      " Epoch  |  Batch  |  Train Loss  |  Val Loss  |  Val Acc  |  Elapsed \n",
      "----------------------------------------------------------------------\n",
      "   2    |   20    |   0.060728   |     -      |     -     |   0.41   \n",
      "   2    |   40    |   0.058275   |     -      |     -     |   0.38   \n",
      "   2    |   60    |   0.065604   |     -      |     -     |   0.38   \n",
      "   2    |   80    |   0.036141   |     -      |     -     |   0.37   \n",
      "   2    |   100   |   0.065729   |     -      |     -     |   0.38   \n",
      "   2    |   120   |   0.073429   |     -      |     -     |   0.39   \n",
      "   2    |   140   |   0.035120   |     -      |     -     |   0.38   \n",
      "   2    |   160   |   0.061956   |     -      |     -     |   0.37   \n",
      "   2    |   180   |   0.059001   |     -      |     -     |   0.39   \n",
      "   2    |   200   |   0.050558   |     -      |     -     |   0.37   \n",
      "   2    |   220   |   0.054390   |     -      |     -     |   0.40   \n",
      "   2    |   240   |   0.032806   |     -      |     -     |   0.38   \n",
      "   2    |   260   |   0.045921   |     -      |     -     |   0.38   \n",
      "   2    |   280   |   0.044581   |     -      |     -     |   0.39   \n",
      "   2    |   300   |   0.067922   |     -      |     -     |   0.36   \n",
      "   2    |   320   |   0.067043   |     -      |     -     |   0.40   \n",
      "   2    |   340   |   0.042802   |     -      |     -     |   0.39   \n",
      "   2    |   360   |   0.050033   |     -      |     -     |   0.38   \n",
      "   2    |   380   |   0.068655   |     -      |     -     |   0.38   \n",
      "   2    |   400   |   0.052499   |     -      |     -     |   0.38   \n",
      "   2    |   420   |   0.041569   |     -      |     -     |   0.40   \n",
      "   2    |   440   |   0.052503   |     -      |     -     |   0.38   \n",
      "   2    |   460   |   0.052128   |     -      |     -     |   0.37   \n",
      "   2    |   480   |   0.056422   |     -      |     -     |   0.37   \n",
      "   2    |   500   |   0.045729   |     -      |     -     |   0.39   \n",
      "   2    |   520   |   0.077943   |     -      |     -     |   0.37   \n",
      "   2    |   540   |   0.047726   |     -      |     -     |   0.38   \n",
      "   2    |   560   |   0.043918   |     -      |     -     |   0.38   \n",
      "   2    |   580   |   0.064805   |     -      |     -     |   0.37   \n",
      "   2    |   600   |   0.061842   |     -      |     -     |   0.38   \n",
      "   2    |   620   |   0.051933   |     -      |     -     |   0.36   \n",
      "   2    |   640   |   0.043946   |     -      |     -     |   0.36   \n",
      "   2    |   660   |   0.046340   |     -      |     -     |   0.37   \n",
      "   2    |   680   |   0.080447   |     -      |     -     |   0.38   \n",
      "   2    |   700   |   0.057240   |     -      |     -     |   0.38   \n",
      "   2    |   720   |   0.053824   |     -      |     -     |   0.38   \n",
      "   2    |   740   |   0.042240   |     -      |     -     |   0.36   \n",
      "   2    |   760   |   0.032599   |     -      |     -     |   0.37   \n",
      "   2    |   780   |   0.057837   |     -      |     -     |   0.36   \n",
      "   2    |   800   |   0.049633   |     -      |     -     |   0.39   \n",
      "   2    |   820   |   0.054241   |     -      |     -     |   0.38   \n",
      "   2    |   840   |   0.046845   |     -      |     -     |   0.37   \n",
      "   2    |   860   |   0.061589   |     -      |     -     |   0.37   \n",
      "   2    |   880   |   0.030769   |     -      |     -     |   0.41   \n",
      "   2    |   900   |   0.078284   |     -      |     -     |   0.36   \n",
      "   2    |   920   |   0.054176   |     -      |     -     |   0.37   \n",
      "   2    |   940   |   0.048834   |     -      |     -     |   0.37   \n",
      "   2    |   960   |   0.035343   |     -      |     -     |   0.36   \n",
      "   2    |   980   |   0.042796   |     -      |     -     |   0.38   \n",
      "   2    |  1000   |   0.046233   |     -      |     -     |   0.38   \n",
      "   2    |  1020   |   0.057755   |     -      |     -     |   0.36   \n",
      "   2    |  1040   |   0.037336   |     -      |     -     |   0.36   \n",
      "   2    |  1060   |   0.070424   |     -      |     -     |   0.36   \n",
      "   2    |  1080   |   0.092558   |     -      |     -     |   0.36   \n",
      "   2    |  1100   |   0.045845   |     -      |     -     |   0.36   \n",
      "   2    |  1120   |   0.061093   |     -      |     -     |   0.37   \n",
      "   2    |  1140   |   0.052653   |     -      |     -     |   0.37   \n",
      "   2    |  1160   |   0.066146   |     -      |     -     |   0.39   \n",
      "   2    |  1180   |   0.038976   |     -      |     -     |   0.37   \n",
      "   2    |  1200   |   0.055216   |     -      |     -     |   0.38   \n",
      "   2    |  1220   |   0.052584   |     -      |     -     |   0.35   \n",
      "   2    |  1240   |   0.037031   |     -      |     -     |   0.37   \n",
      "   2    |  1260   |   0.026924   |     -      |     -     |   0.38   \n",
      "   2    |  1280   |   0.032329   |     -      |     -     |   0.37   \n",
      "   2    |  1300   |   0.035287   |     -      |     -     |   0.36   \n",
      "   2    |  1320   |   0.044624   |     -      |     -     |   0.36   \n",
      "   2    |  1340   |   0.059797   |     -      |     -     |   0.35   \n",
      "   2    |  1360   |   0.049261   |     -      |     -     |   0.38   \n",
      "   2    |  1380   |   0.055813   |     -      |     -     |   0.38   \n",
      "   2    |  1400   |   0.031773   |     -      |     -     |   0.37   \n",
      "   2    |  1420   |   0.042866   |     -      |     -     |   0.38   \n",
      "   2    |  1440   |   0.052574   |     -      |     -     |   0.36   \n",
      "   2    |  1460   |   0.035595   |     -      |     -     |   0.37   \n",
      "   2    |  1480   |   0.052026   |     -      |     -     |   0.41   \n",
      "   2    |  1500   |   0.055519   |     -      |     -     |   0.37   \n",
      "   2    |  1520   |   0.038095   |     -      |     -     |   0.37   \n",
      "   2    |  1540   |   0.057075   |     -      |     -     |   0.39   \n",
      "   2    |  1560   |   0.047995   |     -      |     -     |   0.38   \n",
      "   2    |  1580   |   0.052341   |     -      |     -     |   0.38   \n",
      "   2    |  1600   |   0.040778   |     -      |     -     |   0.37   \n",
      "   2    |  1620   |   0.083130   |     -      |     -     |   0.38   \n",
      "   2    |  1640   |   0.056620   |     -      |     -     |   0.38   \n",
      "   2    |  1660   |   0.036275   |     -      |     -     |   0.38   \n",
      "   2    |  1680   |   0.044638   |     -      |     -     |   0.37   \n",
      "   2    |  1700   |   0.033845   |     -      |     -     |   0.39   \n",
      "   2    |  1720   |   0.058971   |     -      |     -     |   0.37   \n",
      "   2    |  1740   |   0.039494   |     -      |     -     |   0.38   \n",
      "   2    |  1760   |   0.072150   |     -      |     -     |   0.37   \n",
      "   2    |  1780   |   0.028810   |     -      |     -     |   0.37   \n",
      "   2    |  1800   |   0.061067   |     -      |     -     |   0.37   \n",
      "   2    |  1820   |   0.064214   |     -      |     -     |   0.36   \n",
      "   2    |  1840   |   0.043387   |     -      |     -     |   0.38   \n",
      "   2    |  1860   |   0.033589   |     -      |     -     |   0.37   \n",
      "   2    |  1880   |   0.044340   |     -      |     -     |   0.37   \n",
      "   2    |  1900   |   0.080453   |     -      |     -     |   0.38   \n",
      "   2    |  1920   |   0.033751   |     -      |     -     |   0.38   \n",
      "   2    |  1940   |   0.053470   |     -      |     -     |   0.38   \n",
      "   2    |  1960   |   0.044407   |     -      |     -     |   0.37   \n",
      "   2    |  1980   |   0.055523   |     -      |     -     |   0.39   \n",
      "   2    |  2000   |   0.043244   |     -      |     -     |   0.38   \n",
      "   2    |  2020   |   0.053414   |     -      |     -     |   0.37   \n",
      "   2    |  2040   |   0.045787   |     -      |     -     |   0.36   \n",
      "   2    |  2060   |   0.027519   |     -      |     -     |   0.39   \n",
      "   2    |  2080   |   0.046950   |     -      |     -     |   0.37   \n",
      "   2    |  2100   |   0.046529   |     -      |     -     |   0.37   \n",
      "   2    |  2104   |   0.031128   |     -      |     -     |   0.08   \n",
      "----------------------------------------------------------------------\n",
      "   2    |    -    |   0.051041   |  0.041830  |   99.11   |   40.57  \n",
      "----------------------------------------------------------------------\n",
      "\n",
      "\n",
      "Training complete!\n"
     ]
    }
   ],
   "source": [
    "set_seed(42) \n",
    "bert_classifier, optimizer, scheduler = initialize_model(epochs=2)\n",
    "train(bert_classifier, train_dataloader, val_dataloader, epochs=2, evaluation=True)"
   ]
  },
  {
   "cell_type": "code",
   "execution_count": 56,
   "id": "M6vwEKQL7EcO",
   "metadata": {
    "id": "M6vwEKQL7EcO"
   },
   "outputs": [],
   "source": [
    "import pickle\n",
    "filename = 'trained_model_base.sav'\n",
    "pickle.dump(bert_classifier, open(filename, 'wb'))"
   ]
  },
  {
   "cell_type": "code",
   "execution_count": null,
   "id": "DtGHYmv8_ka6",
   "metadata": {
    "id": "DtGHYmv8_ka6"
   },
   "outputs": [],
   "source": [
    "# # Loading the model (to avoid retraining in reruns)\n",
    "\n",
    "# import pickle\n",
    "# filename = 'trained_model_mini.sav'\n",
    "# f = open(filename, 'rb')\n",
    "# bert_classifier = pickle.load(f)"
   ]
  },
  {
   "cell_type": "code",
   "execution_count": 57,
   "id": "F5vkjSWm7Efh",
   "metadata": {
    "id": "F5vkjSWm7Efh"
   },
   "outputs": [],
   "source": [
    "import torch.nn.functional as F\n",
    "\n",
    "def bert_predict(model, test_dataloader):\n",
    "    \"\"\"Perform a forward pass on the trained BERT model to predict probabilities\n",
    "    on the test set.\n",
    "    \"\"\"\n",
    "    # Put the model into the evaluation mode. The dropout layers are disabled during\n",
    "    # the test time.\n",
    "    model.eval()\n",
    "\n",
    "    all_logits = []\n",
    "\n",
    "    # For each batch in our test set...\n",
    "    for batch in test_dataloader:\n",
    "        # Load batch to GPU\n",
    "        b_input_ids, b_attn_mask = tuple(t.to(device) for t in batch)[:2]\n",
    "\n",
    "        # Compute logits\n",
    "        with torch.no_grad():\n",
    "            logits = model(b_input_ids, b_attn_mask)\n",
    "        all_logits.append(logits)\n",
    "    \n",
    "    # Concatenate logits from each batch\n",
    "    all_logits = torch.cat(all_logits, dim=0)\n",
    "\n",
    "    # Apply softmax to calculate probabilities\n",
    "    probs = F.softmax(all_logits, dim=1).cpu().numpy()\n",
    "\n",
    "    return probs"
   ]
  },
  {
   "cell_type": "code",
   "execution_count": 58,
   "id": "A1q_Txvx73mH",
   "metadata": {
    "id": "A1q_Txvx73mH"
   },
   "outputs": [],
   "source": [
    "from sklearn.metrics import accuracy_score, roc_curve, auc\n",
    "\n",
    "def evaluate_roc(probs, y_true, model_name):\n",
    "    \"\"\"\n",
    "    - Print AUC and accuracy on the test set\n",
    "    - Plot ROC\n",
    "    @params    probs (np.array): an array of predicted probabilities with shape (len(y_true), 2)\n",
    "    @params    y_true (np.array): an array of the true values with shape (len(y_true),)\n",
    "    \"\"\"\n",
    "    preds = probs[:, 1]\n",
    "    fpr, tpr, threshold = roc_curve(y_true, preds)\n",
    "    roc_auc = auc(fpr, tpr)\n",
    "    print(f'AUC: {roc_auc:.4f}')\n",
    "       \n",
    "    # Get accuracy over the test set\n",
    "    y_pred = np.where(preds >= 0.5, 1, 0)\n",
    "    accuracy = accuracy_score(y_true, y_pred)\n",
    "    print(f'Accuracy: {accuracy*100:.2f}%')\n",
    "    \n",
    "    # Plot ROC AUC\n",
    "    plt.title(f\" ROC of {model_name}\")\n",
    "    plt.plot(fpr, tpr, 'b', label = 'AUC = %0.2f' % roc_auc)\n",
    "    plt.legend(loc = 'lower right')\n",
    "    plt.plot([0, 1], [0, 1],'r--')\n",
    "    plt.xlim([0, 1])\n",
    "    plt.ylim([0, 1])\n",
    "    plt.ylabel('True Positive Rate')\n",
    "    plt.xlabel('False Positive Rate')\n",
    "    plt.show()"
   ]
  },
  {
   "cell_type": "code",
   "execution_count": 59,
   "id": "DQg9IGpE73r9",
   "metadata": {
    "colab": {
     "base_uri": "https://localhost:8080/",
     "height": 330
    },
    "id": "DQg9IGpE73r9",
    "outputId": "b9eff3da-a496-45c2-be58-ed958f714a0b"
   },
   "outputs": [
    {
     "name": "stdout",
     "output_type": "stream",
     "text": [
      "AUC: 0.9968\n",
      "Accuracy: 99.11%\n"
     ]
    },
    {
     "data": {
      "image/png": "[encoded data removed]",
      "text/plain": [
       "<Figure size 432x288 with 1 Axes>"
      ]
     },
     "metadata": {
      "needs_background": "light"
     },
     "output_type": "display_data"
    }
   ],
   "source": [
    "# Compute predicted probabilities on the validation set\n",
    "probs = bert_predict(bert_classifier, val_dataloader)\n",
    "\n",
    "# Evaluate the Bert classifier\n",
    "evaluate_roc(probs, y_val, \"BERT-mini\")"
   ]
  },
  {
   "cell_type": "code",
   "execution_count": 60,
   "id": "RScB0IRG_8lj",
   "metadata": {
    "colab": {
     "base_uri": "https://localhost:8080/"
    },
    "id": "RScB0IRG_8lj",
    "outputId": "bd6bf051-8996-437a-db77-11ff90b31ac5"
   },
   "outputs": [
    {
     "name": "stdout",
     "output_type": "stream",
     "text": [
      "Tokenizing data...\n"
     ]
    }
   ],
   "source": [
    "# Run `preprocessing_for_bert` on the test set\n",
    "print('Tokenizing data...')\n",
    "test_inputs, test_masks = preprocessing_for_bert(X_test)\n",
    "\n",
    "# Create the DataLoader for our test set\n",
    "test_dataset = TensorDataset(test_inputs, test_masks)\n",
    "test_sampler = SequentialSampler(test_dataset)\n",
    "test_dataloader = DataLoader(test_dataset, sampler=test_sampler, batch_size=32)"
   ]
  },
  {
   "cell_type": "code",
   "execution_count": 61,
   "id": "-G8VBavh_8oz",
   "metadata": {
    "colab": {
     "base_uri": "https://localhost:8080/"
    },
    "id": "-G8VBavh_8oz",
    "outputId": "216dcffa-769e-4d1a-8e7b-1021e8997bec"
   },
   "outputs": [
    {
     "name": "stdout",
     "output_type": "stream",
     "text": [
      "no-negative tweets ratio  0.4867677132202574\n"
     ]
    }
   ],
   "source": [
    "# Compute predicted probabilities on the test set\n",
    "probs = bert_predict(bert_classifier, test_dataloader)\n",
    "\n",
    "# Get predictions from the probabilities\n",
    "threshold = 0.5\n",
    "preds = np.where(probs[:, 1] > threshold, 1, 0)\n",
    "\n",
    "# Number of tweets predicted non-negative\n",
    "print(\"no-negative tweets ratio \", preds.sum()/len(preds))"
   ]
  },
  {
   "cell_type": "code",
   "execution_count": 62,
   "id": "xDJPZKz1AIKr",
   "metadata": {
    "colab": {
     "base_uri": "https://localhost:8080/",
     "height": 330
    },
    "id": "xDJPZKz1AIKr",
    "outputId": "06d4c3de-8fd5-44c7-8e72-dde7b70f10e9"
   },
   "outputs": [
    {
     "name": "stdout",
     "output_type": "stream",
     "text": [
      "AUC: 0.9958\n",
      "Accuracy: 98.97%\n"
     ]
    },
    {
     "data": {
      "image/png": "[encoded data removed]",
      "text/plain": [
       "<Figure size 432x288 with 1 Axes>"
      ]
     },
     "metadata": {
      "needs_background": "light"
     },
     "output_type": "display_data"
    }
   ],
   "source": [
    "# Evaluate the Bert classifier for unseen test data\n",
    "evaluate_roc(probs, y_test,\"BERT-mini\")"
   ]
  },
  {
   "cell_type": "code",
   "execution_count": 66,
   "id": "qeYUAjewAIn7",
   "metadata": {
    "id": "qeYUAjewAIn7"
   },
   "outputs": [],
   "source": [
    "# Helper function to get the prediction of a single name\n",
    "def predict_single_full_name(name):\n",
    "    df = pd.DataFrame([name])\n",
    "    df = df.rename(columns = {0:\"name\"})\n",
    "    print(df.name.values)\n",
    "    test_inputs, test_masks = preprocessing_for_bert(df.name.values)\n",
    "\n",
    "    # Create the DataLoader for our test set\n",
    "    test_dataset = TensorDataset(test_inputs, test_masks)\n",
    "    test_sampler = SequentialSampler(test_dataset)\n",
    "    test_dataloader = DataLoader(test_dataset, sampler=test_sampler, batch_size=32)\n",
    "\n",
    "    # Compute predicted probabilities on the test set\n",
    "    probs = bert_predict(bert_classifier, test_dataloader)\n",
    "    print(probs)\n",
    "\n",
    "    # Get predictions from the probabilities\n",
    "    threshold = 0.5\n",
    "    preds = np.where(probs[:, 1] > threshold, \"The input name seems not correct\", \"The input name is correct\")\n",
    "\n",
    "#     print(\"no-negative ratio \", preds.sum()/len(preds))\n",
    "    return preds"
   ]
  },
  {
   "cell_type": "code",
   "execution_count": 72,
   "id": "VRHBCDVQgTQM",
   "metadata": {
    "colab": {
     "base_uri": "https://localhost:8080/"
    },
    "id": "VRHBCDVQgTQM",
    "outputId": "0712ab98-2f5b-4dae-9a13-fd3cdacdd4bf"
   },
   "outputs": [
    {
     "name": "stdout",
     "output_type": "stream",
     "text": [
      "['عبدالله محمد امين']\n",
      "[[0.9956055  0.00439447]]\n"
     ]
    },
    {
     "data": {
      "text/plain": [
       "array(['The input name is correct'], dtype='<U32')"
      ]
     },
     "execution_count": 72,
     "metadata": {},
     "output_type": "execute_result"
    }
   ],
   "source": [
    "# lets check my name \n",
    "predict_single_full_name(\"عبدالله محمد امين\")"
   ]
  },
  {
   "cell_type": "code",
   "execution_count": 73,
   "id": "aVxgGg15hv1C",
   "metadata": {
    "colab": {
     "base_uri": "https://localhost:8080/"
    },
    "id": "aVxgGg15hv1C",
    "outputId": "7d503538-8ee7-4986-af89-ed7a8610c745"
   },
   "outputs": [
    {
     "name": "stdout",
     "output_type": "stream",
     "text": [
      "['عبدالله محماد امين']\n",
      "[[1.1399698e-05 9.9998856e-01]]\n"
     ]
    },
    {
     "data": {
      "text/plain": [
       "array(['The input name seems not correct'], dtype='<U32')"
      ]
     },
     "execution_count": 73,
     "metadata": {},
     "output_type": "execute_result"
    }
   ],
   "source": [
    "predict_single_full_name(\"عبدالله محماد امين\")"
   ]
  },
  {
   "cell_type": "code",
   "execution_count": 74,
   "id": "si9P-gAFhzFo",
   "metadata": {
    "colab": {
     "base_uri": "https://localhost:8080/"
    },
    "id": "si9P-gAFhzFo",
    "outputId": "58cd9ceb-8a02-4e63-ffde-ab632fecc764"
   },
   "outputs": [
    {
     "name": "stdout",
     "output_type": "stream",
     "text": [
      "['عبدالله محمد اميهن']\n",
      "[[9.7134971e-06 9.9999034e-01]]\n"
     ]
    },
    {
     "data": {
      "text/plain": [
       "array(['The input name seems not correct'], dtype='<U32')"
      ]
     },
     "execution_count": 74,
     "metadata": {},
     "output_type": "execute_result"
    }
   ],
   "source": [
    "predict_single_full_name(\"عبدالله محمد اميهن\")"
   ]
  },
  {
   "cell_type": "code",
   "execution_count": 75,
   "id": "Tw3UGI7Wh2Tg",
   "metadata": {
    "colab": {
     "base_uri": "https://localhost:8080/"
    },
    "id": "Tw3UGI7Wh2Tg",
    "outputId": "06728c5a-9779-4c5a-ee6f-c4832c74f855"
   },
   "outputs": [
    {
     "name": "stdout",
     "output_type": "stream",
     "text": [
      "['علاء محمد صديق']\n",
      "[[0.99453306 0.00546688]]\n"
     ]
    },
    {
     "data": {
      "text/plain": [
       "array(['The input name is correct'], dtype='<U32')"
      ]
     },
     "execution_count": 75,
     "metadata": {},
     "output_type": "execute_result"
    }
   ],
   "source": [
    "# lets check another name \n",
    "predict_single_full_name(\"علاء محمد صديق\")"
   ]
  },
  {
   "cell_type": "code",
   "execution_count": 76,
   "id": "-Bf7F32piKUn",
   "metadata": {
    "colab": {
     "base_uri": "https://localhost:8080/"
    },
    "id": "-Bf7F32piKUn",
    "outputId": "4ba4d2d7-c083-4a19-fc4e-31d9d45fcd21"
   },
   "outputs": [
    {
     "name": "stdout",
     "output_type": "stream",
     "text": [
      "['علاء محمد صديقه']\n",
      "[[1.8628692e-05 9.9998140e-01]]\n"
     ]
    },
    {
     "data": {
      "text/plain": [
       "array(['The input name seems not correct'], dtype='<U32')"
      ]
     },
     "execution_count": 76,
     "metadata": {},
     "output_type": "execute_result"
    }
   ],
   "source": [
    "predict_single_full_name(\"علاء محمد صديقه\")"
   ]
  }
 ],
 "metadata": {
  "accelerator": "GPU",
  "colab": {
   "collapsed_sections": [
    "8rPQ6zhw1NRm",
    "aE01KPn_17RN"
   ],
   "provenance": []
  },
  "gpuClass": "standard",
  "kernelspec": {
   "display_name": "Python 3",
   "language": "python",
   "name": "python3"
  },
  "language_info": {
   "codemirror_mode": {
    "name": "ipython",
    "version": 3
   },
   "file_extension": ".py",
   "mimetype": "text/x-python",
   "name": "python",
   "nbconvert_exporter": "python",
   "pygments_lexer": "ipython3",
   "version": "3.8.8"
  },
  "widgets": {
   "application/vnd.jupyter.widget-state+json": {
    "01acf79c7c704d36b1e67fda94313322": {
     "model_module": "@jupyter-widgets/controls",
     "model_module_version": "1.5.0",
     "model_name": "FloatProgressModel",
     "state": {
      "_dom_classes": [],
      "_model_module": "@jupyter-widgets/controls",
      "_model_module_version": "1.5.0",
      "_model_name": "FloatProgressModel",
      "_view_count": null,
      "_view_module": "@jupyter-widgets/controls",
      "_view_module_version": "1.5.0",
      "_view_name": "ProgressView",
      "bar_style": "success",
      "description": "",
      "description_tooltip": null,
      "layout": "IPY_MODEL_da7e681827aa4c94855110abcb175d17",
      "max": 333770,
      "min": 0,
      "orientation": "horizontal",
      "style": "IPY_MODEL_f7366b3f5fb94646a89e9e49c7ed473b",
      "value": 333770
     }
    },
    "07908a60c9a44d0bbf461388135f5729": {
     "model_module": "@jupyter-widgets/controls",
     "model_module_version": "1.5.0",
     "model_name": "HTMLModel",
     "state": {
      "_dom_classes": [],
      "_model_module": "@jupyter-widgets/controls",
      "_model_module_version": "1.5.0",
      "_model_name": "HTMLModel",
      "_view_count": null,
      "_view_module": "@jupyter-widgets/controls",
      "_view_module_version": "1.5.0",
      "_view_name": "HTMLView",
      "description": "",
      "description_tooltip": null,
      "layout": "IPY_MODEL_5866fdea2b344f2b9e617faa04047c13",
      "placeholder": "​",
      "style": "IPY_MODEL_23f11579604f44a2ab7f94a3975a9355",
      "value": " 112/112 [00:00&lt;00:00, 2.00kB/s]"
     }
    },
    "0d68c7b44ddf4bb681e1cf590155c6ea": {
     "model_module": "@jupyter-widgets/base",
     "model_module_version": "1.2.0",
     "model_name": "LayoutModel",
     "state": {
      "_model_module": "@jupyter-widgets/base",
      "_model_module_version": "1.2.0",
      "_model_name": "LayoutModel",
      "_view_count": null,
      "_view_module": "@jupyter-widgets/base",
      "_view_module_version": "1.2.0",
      "_view_name": "LayoutView",
      "align_content": null,
      "align_items": null,
      "align_self": null,
      "border": null,
      "bottom": null,
      "display": null,
      "flex": null,
      "flex_flow": null,
      "grid_area": null,
      "grid_auto_columns": null,
      "grid_auto_flow": null,
      "grid_auto_rows": null,
      "grid_column": null,
      "grid_gap": null,
      "grid_row": null,
      "grid_template_areas": null,
      "grid_template_columns": null,
      "grid_template_rows": null,
      "height": null,
      "justify_content": null,
      "justify_items": null,
      "left": null,
      "margin": null,
      "max_height": null,
      "max_width": null,
      "min_height": null,
      "min_width": null,
      "object_fit": null,
      "object_position": null,
      "order": null,
      "overflow": null,
      "overflow_x": null,
      "overflow_y": null,
      "padding": null,
      "right": null,
      "top": null,
      "visibility": null,
      "width": null
     }
    },
    "1eb0296adc0e4fa3aa6abd885753588f": {
     "model_module": "@jupyter-widgets/base",
     "model_module_version": "1.2.0",
     "model_name": "LayoutModel",
     "state": {
      "_model_module": "@jupyter-widgets/base",
      "_model_module_version": "1.2.0",
      "_model_name": "LayoutModel",
      "_view_count": null,
      "_view_module": "@jupyter-widgets/base",
      "_view_module_version": "1.2.0",
      "_view_name": "LayoutView",
      "align_content": null,
      "align_items": null,
      "align_self": null,
      "border": null,
      "bottom": null,
      "display": null,
      "flex": null,
      "flex_flow": null,
      "grid_area": null,
      "grid_auto_columns": null,
      "grid_auto_flow": null,
      "grid_auto_rows": null,
      "grid_column": null,
      "grid_gap": null,
      "grid_row": null,
      "grid_template_areas": null,
      "grid_template_columns": null,
      "grid_template_rows": null,
      "height": null,
      "justify_content": null,
      "justify_items": null,
      "left": null,
      "margin": null,
      "max_height": null,
      "max_width": null,
      "min_height": null,
      "min_width": null,
      "object_fit": null,
      "object_position": null,
      "order": null,
      "overflow": null,
      "overflow_x": null,
      "overflow_y": null,
      "padding": null,
      "right": null,
      "top": null,
      "visibility": null,
      "width": null
     }
    },
    "1ec4ea16f6fc448ca29561ecd5108e99": {
     "model_module": "@jupyter-widgets/controls",
     "model_module_version": "1.5.0",
     "model_name": "HTMLModel",
     "state": {
      "_dom_classes": [],
      "_model_module": "@jupyter-widgets/controls",
      "_model_module_version": "1.5.0",
      "_model_name": "HTMLModel",
      "_view_count": null,
      "_view_module": "@jupyter-widgets/controls",
      "_view_module_version": "1.5.0",
      "_view_name": "HTMLView",
      "description": "",
      "description_tooltip": null,
      "layout": "IPY_MODEL_1eb0296adc0e4fa3aa6abd885753588f",
      "placeholder": "​",
      "style": "IPY_MODEL_ac9bd92c048f4f88bc9df9ba32811c7b",
      "value": " 334k/334k [00:00&lt;00:00, 852kB/s]"
     }
    },
    "228b68c55c05434f96bf84cd6e4f7705": {
     "model_module": "@jupyter-widgets/controls",
     "model_module_version": "1.5.0",
     "model_name": "FloatProgressModel",
     "state": {
      "_dom_classes": [],
      "_model_module": "@jupyter-widgets/controls",
      "_model_module_version": "1.5.0",
      "_model_name": "FloatProgressModel",
      "_view_count": null,
      "_view_module": "@jupyter-widgets/controls",
      "_view_module_version": "1.5.0",
      "_view_name": "ProgressView",
      "bar_style": "success",
      "description": "",
      "description_tooltip": null,
      "layout": "IPY_MODEL_57853d530d7d49b8b43923688a3df8d4",
      "max": 62,
      "min": 0,
      "orientation": "horizontal",
      "style": "IPY_MODEL_6eb9e567ba96448f80bf3c96bfa375ae",
      "value": 62
     }
    },
    "23f11579604f44a2ab7f94a3975a9355": {
     "model_module": "@jupyter-widgets/controls",
     "model_module_version": "1.5.0",
     "model_name": "DescriptionStyleModel",
     "state": {
      "_model_module": "@jupyter-widgets/controls",
      "_model_module_version": "1.5.0",
      "_model_name": "DescriptionStyleModel",
      "_view_count": null,
      "_view_module": "@jupyter-widgets/base",
      "_view_module_version": "1.2.0",
      "_view_name": "StyleView",
      "description_width": ""
     }
    },
    "26b40c034e2346e88f7c772fe84764fb": {
     "model_module": "@jupyter-widgets/controls",
     "model_module_version": "1.5.0",
     "model_name": "ProgressStyleModel",
     "state": {
      "_model_module": "@jupyter-widgets/controls",
      "_model_module_version": "1.5.0",
      "_model_name": "ProgressStyleModel",
      "_view_count": null,
      "_view_module": "@jupyter-widgets/base",
      "_view_module_version": "1.2.0",
      "_view_name": "StyleView",
      "bar_color": null,
      "description_width": ""
     }
    },
    "2acec3aa4170411b854d427b583a12e5": {
     "model_module": "@jupyter-widgets/controls",
     "model_module_version": "1.5.0",
     "model_name": "FloatProgressModel",
     "state": {
      "_dom_classes": [],
      "_model_module": "@jupyter-widgets/controls",
      "_model_module_version": "1.5.0",
      "_model_name": "FloatProgressModel",
      "_view_count": null,
      "_view_module": "@jupyter-widgets/controls",
      "_view_module_version": "1.5.0",
      "_view_name": "ProgressView",
      "bar_style": "success",
      "description": "",
      "description_tooltip": null,
      "layout": "IPY_MODEL_b88f840de3df466ba98553ac96fcbcff",
      "max": 509,
      "min": 0,
      "orientation": "horizontal",
      "style": "IPY_MODEL_de5708c77d99400897f252dc51093d62",
      "value": 509
     }
    },
    "319ba2aa01064ccfa323b3f6ff6b15a9": {
     "model_module": "@jupyter-widgets/controls",
     "model_module_version": "1.5.0",
     "model_name": "DescriptionStyleModel",
     "state": {
      "_model_module": "@jupyter-widgets/controls",
      "_model_module_version": "1.5.0",
      "_model_name": "DescriptionStyleModel",
      "_view_count": null,
      "_view_module": "@jupyter-widgets/base",
      "_view_module_version": "1.2.0",
      "_view_name": "StyleView",
      "description_width": ""
     }
    },
    "39a41753270348e789dfbc738aa38999": {
     "model_module": "@jupyter-widgets/base",
     "model_module_version": "1.2.0",
     "model_name": "LayoutModel",
     "state": {
      "_model_module": "@jupyter-widgets/base",
      "_model_module_version": "1.2.0",
      "_model_name": "LayoutModel",
      "_view_count": null,
      "_view_module": "@jupyter-widgets/base",
      "_view_module_version": "1.2.0",
      "_view_name": "LayoutView",
      "align_content": null,
      "align_items": null,
      "align_self": null,
      "border": null,
      "bottom": null,
      "display": null,
      "flex": null,
      "flex_flow": null,
      "grid_area": null,
      "grid_auto_columns": null,
      "grid_auto_flow": null,
      "grid_auto_rows": null,
      "grid_column": null,
      "grid_gap": null,
      "grid_row": null,
      "grid_template_areas": null,
      "grid_template_columns": null,
      "grid_template_rows": null,
      "height": null,
      "justify_content": null,
      "justify_items": null,
      "left": null,
      "margin": null,
      "max_height": null,
      "max_width": null,
      "min_height": null,
      "min_width": null,
      "object_fit": null,
      "object_position": null,
      "order": null,
      "overflow": null,
      "overflow_x": null,
      "overflow_y": null,
      "padding": null,
      "right": null,
      "top": null,
      "visibility": null,
      "width": null
     }
    },
    "3fe7e259d3424bdf8f6415697827fb3e": {
     "model_module": "@jupyter-widgets/base",
     "model_module_version": "1.2.0",
     "model_name": "LayoutModel",
     "state": {
      "_model_module": "@jupyter-widgets/base",
      "_model_module_version": "1.2.0",
      "_model_name": "LayoutModel",
      "_view_count": null,
      "_view_module": "@jupyter-widgets/base",
      "_view_module_version": "1.2.0",
      "_view_name": "LayoutView",
      "align_content": null,
      "align_items": null,
      "align_self": null,
      "border": null,
      "bottom": null,
      "display": null,
      "flex": null,
      "flex_flow": null,
      "grid_area": null,
      "grid_auto_columns": null,
      "grid_auto_flow": null,
      "grid_auto_rows": null,
      "grid_column": null,
      "grid_gap": null,
      "grid_row": null,
      "grid_template_areas": null,
      "grid_template_columns": null,
      "grid_template_rows": null,
      "height": null,
      "justify_content": null,
      "justify_items": null,
      "left": null,
      "margin": null,
      "max_height": null,
      "max_width": null,
      "min_height": null,
      "min_width": null,
      "object_fit": null,
      "object_position": null,
      "order": null,
      "overflow": null,
      "overflow_x": null,
      "overflow_y": null,
      "padding": null,
      "right": null,
      "top": null,
      "visibility": null,
      "width": null
     }
    },
    "41096aa2c4114b59a25edbbfae42e4d6": {
     "model_module": "@jupyter-widgets/controls",
     "model_module_version": "1.5.0",
     "model_name": "HTMLModel",
     "state": {
      "_dom_classes": [],
      "_model_module": "@jupyter-widgets/controls",
      "_model_module_version": "1.5.0",
      "_model_name": "HTMLModel",
      "_view_count": null,
      "_view_module": "@jupyter-widgets/controls",
      "_view_module_version": "1.5.0",
      "_view_name": "HTMLView",
      "description": "",
      "description_tooltip": null,
      "layout": "IPY_MODEL_0d68c7b44ddf4bb681e1cf590155c6ea",
      "placeholder": "​",
      "style": "IPY_MODEL_81c3a1708da24046bfb824d120f37525",
      "value": "Downloading: 100%"
     }
    },
    "4d5e15ad839f4b1ca473010b01983b80": {
     "model_module": "@jupyter-widgets/base",
     "model_module_version": "1.2.0",
     "model_name": "LayoutModel",
     "state": {
      "_model_module": "@jupyter-widgets/base",
      "_model_module_version": "1.2.0",
      "_model_name": "LayoutModel",
      "_view_count": null,
      "_view_module": "@jupyter-widgets/base",
      "_view_module_version": "1.2.0",
      "_view_name": "LayoutView",
      "align_content": null,
      "align_items": null,
      "align_self": null,
      "border": null,
      "bottom": null,
      "display": null,
      "flex": null,
      "flex_flow": null,
      "grid_area": null,
      "grid_auto_columns": null,
      "grid_auto_flow": null,
      "grid_auto_rows": null,
      "grid_column": null,
      "grid_gap": null,
      "grid_row": null,
      "grid_template_areas": null,
      "grid_template_columns": null,
      "grid_template_rows": null,
      "height": null,
      "justify_content": null,
      "justify_items": null,
      "left": null,
      "margin": null,
      "max_height": null,
      "max_width": null,
      "min_height": null,
      "min_width": null,
      "object_fit": null,
      "object_position": null,
      "order": null,
      "overflow": null,
      "overflow_x": null,
      "overflow_y": null,
      "padding": null,
      "right": null,
      "top": null,
      "visibility": null,
      "width": null
     }
    },
    "57853d530d7d49b8b43923688a3df8d4": {
     "model_module": "@jupyter-widgets/base",
     "model_module_version": "1.2.0",
     "model_name": "LayoutModel",
     "state": {
      "_model_module": "@jupyter-widgets/base",
      "_model_module_version": "1.2.0",
      "_model_name": "LayoutModel",
      "_view_count": null,
      "_view_module": "@jupyter-widgets/base",
      "_view_module_version": "1.2.0",
      "_view_name": "LayoutView",
      "align_content": null,
      "align_items": null,
      "align_self": null,
      "border": null,
      "bottom": null,
      "display": null,
      "flex": null,
      "flex_flow": null,
      "grid_area": null,
      "grid_auto_columns": null,
      "grid_auto_flow": null,
      "grid_auto_rows": null,
      "grid_column": null,
      "grid_gap": null,
      "grid_row": null,
      "grid_template_areas": null,
      "grid_template_columns": null,
      "grid_template_rows": null,
      "height": null,
      "justify_content": null,
      "justify_items": null,
      "left": null,
      "margin": null,
      "max_height": null,
      "max_width": null,
      "min_height": null,
      "min_width": null,
      "object_fit": null,
      "object_position": null,
      "order": null,
      "overflow": null,
      "overflow_x": null,
      "overflow_y": null,
      "padding": null,
      "right": null,
      "top": null,
      "visibility": null,
      "width": null
     }
    },
    "5866fdea2b344f2b9e617faa04047c13": {
     "model_module": "@jupyter-widgets/base",
     "model_module_version": "1.2.0",
     "model_name": "LayoutModel",
     "state": {
      "_model_module": "@jupyter-widgets/base",
      "_model_module_version": "1.2.0",
      "_model_name": "LayoutModel",
      "_view_count": null,
      "_view_module": "@jupyter-widgets/base",
      "_view_module_version": "1.2.0",
      "_view_name": "LayoutView",
      "align_content": null,
      "align_items": null,
      "align_self": null,
      "border": null,
      "bottom": null,
      "display": null,
      "flex": null,
      "flex_flow": null,
      "grid_area": null,
      "grid_auto_columns": null,
      "grid_auto_flow": null,
      "grid_auto_rows": null,
      "grid_column": null,
      "grid_gap": null,
      "grid_row": null,
      "grid_template_areas": null,
      "grid_template_columns": null,
      "grid_template_rows": null,
      "height": null,
      "justify_content": null,
      "justify_items": null,
      "left": null,
      "margin": null,
      "max_height": null,
      "max_width": null,
      "min_height": null,
      "min_width": null,
      "object_fit": null,
      "object_position": null,
      "order": null,
      "overflow": null,
      "overflow_x": null,
      "overflow_y": null,
      "padding": null,
      "right": null,
      "top": null,
      "visibility": null,
      "width": null
     }
    },
    "625acfb7fa1548f193acf4bcb4791197": {
     "model_module": "@jupyter-widgets/controls",
     "model_module_version": "1.5.0",
     "model_name": "FloatProgressModel",
     "state": {
      "_dom_classes": [],
      "_model_module": "@jupyter-widgets/controls",
      "_model_module_version": "1.5.0",
      "_model_name": "FloatProgressModel",
      "_view_count": null,
      "_view_module": "@jupyter-widgets/controls",
      "_view_module_version": "1.5.0",
      "_view_name": "ProgressView",
      "bar_style": "success",
      "description": "",
      "description_tooltip": null,
      "layout": "IPY_MODEL_ad2fa29002184be5bd4d94733565d204",
      "max": 112,
      "min": 0,
      "orientation": "horizontal",
      "style": "IPY_MODEL_26b40c034e2346e88f7c772fe84764fb",
      "value": 112
     }
    },
    "670eefdbb2a344ba8f97992d4a43e607": {
     "model_module": "@jupyter-widgets/controls",
     "model_module_version": "1.5.0",
     "model_name": "HTMLModel",
     "state": {
      "_dom_classes": [],
      "_model_module": "@jupyter-widgets/controls",
      "_model_module_version": "1.5.0",
      "_model_name": "HTMLModel",
      "_view_count": null,
      "_view_module": "@jupyter-widgets/controls",
      "_view_module_version": "1.5.0",
      "_view_name": "HTMLView",
      "description": "",
      "description_tooltip": null,
      "layout": "IPY_MODEL_4d5e15ad839f4b1ca473010b01983b80",
      "placeholder": "​",
      "style": "IPY_MODEL_d8c727f1611b4b54a6af6deb78ef645c",
      "value": " 509/509 [00:00&lt;00:00, 17.1kB/s]"
     }
    },
    "6eb9e567ba96448f80bf3c96bfa375ae": {
     "model_module": "@jupyter-widgets/controls",
     "model_module_version": "1.5.0",
     "model_name": "ProgressStyleModel",
     "state": {
      "_model_module": "@jupyter-widgets/controls",
      "_model_module_version": "1.5.0",
      "_model_name": "ProgressStyleModel",
      "_view_count": null,
      "_view_module": "@jupyter-widgets/base",
      "_view_module_version": "1.2.0",
      "_view_name": "StyleView",
      "bar_color": null,
      "description_width": ""
     }
    },
    "74aed4aabd354a0ea21e68dc603f8ae8": {
     "model_module": "@jupyter-widgets/controls",
     "model_module_version": "1.5.0",
     "model_name": "HTMLModel",
     "state": {
      "_dom_classes": [],
      "_model_module": "@jupyter-widgets/controls",
      "_model_module_version": "1.5.0",
      "_model_name": "HTMLModel",
      "_view_count": null,
      "_view_module": "@jupyter-widgets/controls",
      "_view_module_version": "1.5.0",
      "_view_name": "HTMLView",
      "description": "",
      "description_tooltip": null,
      "layout": "IPY_MODEL_e432f57a279f4dda9476df8776aae3b6",
      "placeholder": "​",
      "style": "IPY_MODEL_eba1ab6335d6493193f835573ece8ca9",
      "value": "Downloading: 100%"
     }
    },
    "74df18d3b6494f4582ea07da2164cf01": {
     "model_module": "@jupyter-widgets/base",
     "model_module_version": "1.2.0",
     "model_name": "LayoutModel",
     "state": {
      "_model_module": "@jupyter-widgets/base",
      "_model_module_version": "1.2.0",
      "_model_name": "LayoutModel",
      "_view_count": null,
      "_view_module": "@jupyter-widgets/base",
      "_view_module_version": "1.2.0",
      "_view_name": "LayoutView",
      "align_content": null,
      "align_items": null,
      "align_self": null,
      "border": null,
      "bottom": null,
      "display": null,
      "flex": null,
      "flex_flow": null,
      "grid_area": null,
      "grid_auto_columns": null,
      "grid_auto_flow": null,
      "grid_auto_rows": null,
      "grid_column": null,
      "grid_gap": null,
      "grid_row": null,
      "grid_template_areas": null,
      "grid_template_columns": null,
      "grid_template_rows": null,
      "height": null,
      "justify_content": null,
      "justify_items": null,
      "left": null,
      "margin": null,
      "max_height": null,
      "max_width": null,
      "min_height": null,
      "min_width": null,
      "object_fit": null,
      "object_position": null,
      "order": null,
      "overflow": null,
      "overflow_x": null,
      "overflow_y": null,
      "padding": null,
      "right": null,
      "top": null,
      "visibility": null,
      "width": null
     }
    },
    "7507f8f257a8444bb46a105386281ca2": {
     "model_module": "@jupyter-widgets/base",
     "model_module_version": "1.2.0",
     "model_name": "LayoutModel",
     "state": {
      "_model_module": "@jupyter-widgets/base",
      "_model_module_version": "1.2.0",
      "_model_name": "LayoutModel",
      "_view_count": null,
      "_view_module": "@jupyter-widgets/base",
      "_view_module_version": "1.2.0",
      "_view_name": "LayoutView",
      "align_content": null,
      "align_items": null,
      "align_self": null,
      "border": null,
      "bottom": null,
      "display": null,
      "flex": null,
      "flex_flow": null,
      "grid_area": null,
      "grid_auto_columns": null,
      "grid_auto_flow": null,
      "grid_auto_rows": null,
      "grid_column": null,
      "grid_gap": null,
      "grid_row": null,
      "grid_template_areas": null,
      "grid_template_columns": null,
      "grid_template_rows": null,
      "height": null,
      "justify_content": null,
      "justify_items": null,
      "left": null,
      "margin": null,
      "max_height": null,
      "max_width": null,
      "min_height": null,
      "min_width": null,
      "object_fit": null,
      "object_position": null,
      "order": null,
      "overflow": null,
      "overflow_x": null,
      "overflow_y": null,
      "padding": null,
      "right": null,
      "top": null,
      "visibility": null,
      "width": null
     }
    },
    "761d3df714654dcebfff12e8614d2f3a": {
     "model_module": "@jupyter-widgets/controls",
     "model_module_version": "1.5.0",
     "model_name": "HBoxModel",
     "state": {
      "_dom_classes": [],
      "_model_module": "@jupyter-widgets/controls",
      "_model_module_version": "1.5.0",
      "_model_name": "HBoxModel",
      "_view_count": null,
      "_view_module": "@jupyter-widgets/controls",
      "_view_module_version": "1.5.0",
      "_view_name": "HBoxView",
      "box_style": "",
      "children": [
       "IPY_MODEL_db6bd605310d433a922ccb57ee0e9db8",
       "IPY_MODEL_228b68c55c05434f96bf84cd6e4f7705",
       "IPY_MODEL_b934f828fe0746d78a9fec6ac33d7a80"
      ],
      "layout": "IPY_MODEL_74df18d3b6494f4582ea07da2164cf01"
     }
    },
    "7d409eef5dd74e9ca97d05bbfd76816d": {
     "model_module": "@jupyter-widgets/base",
     "model_module_version": "1.2.0",
     "model_name": "LayoutModel",
     "state": {
      "_model_module": "@jupyter-widgets/base",
      "_model_module_version": "1.2.0",
      "_model_name": "LayoutModel",
      "_view_count": null,
      "_view_module": "@jupyter-widgets/base",
      "_view_module_version": "1.2.0",
      "_view_name": "LayoutView",
      "align_content": null,
      "align_items": null,
      "align_self": null,
      "border": null,
      "bottom": null,
      "display": null,
      "flex": null,
      "flex_flow": null,
      "grid_area": null,
      "grid_auto_columns": null,
      "grid_auto_flow": null,
      "grid_auto_rows": null,
      "grid_column": null,
      "grid_gap": null,
      "grid_row": null,
      "grid_template_areas": null,
      "grid_template_columns": null,
      "grid_template_rows": null,
      "height": null,
      "justify_content": null,
      "justify_items": null,
      "left": null,
      "margin": null,
      "max_height": null,
      "max_width": null,
      "min_height": null,
      "min_width": null,
      "object_fit": null,
      "object_position": null,
      "order": null,
      "overflow": null,
      "overflow_x": null,
      "overflow_y": null,
      "padding": null,
      "right": null,
      "top": null,
      "visibility": null,
      "width": null
     }
    },
    "81c3a1708da24046bfb824d120f37525": {
     "model_module": "@jupyter-widgets/controls",
     "model_module_version": "1.5.0",
     "model_name": "DescriptionStyleModel",
     "state": {
      "_model_module": "@jupyter-widgets/controls",
      "_model_module_version": "1.5.0",
      "_model_name": "DescriptionStyleModel",
      "_view_count": null,
      "_view_module": "@jupyter-widgets/base",
      "_view_module_version": "1.2.0",
      "_view_name": "StyleView",
      "description_width": ""
     }
    },
    "84f9e6a140e9453385d319ca86113c4b": {
     "model_module": "@jupyter-widgets/base",
     "model_module_version": "1.2.0",
     "model_name": "LayoutModel",
     "state": {
      "_model_module": "@jupyter-widgets/base",
      "_model_module_version": "1.2.0",
      "_model_name": "LayoutModel",
      "_view_count": null,
      "_view_module": "@jupyter-widgets/base",
      "_view_module_version": "1.2.0",
      "_view_name": "LayoutView",
      "align_content": null,
      "align_items": null,
      "align_self": null,
      "border": null,
      "bottom": null,
      "display": null,
      "flex": null,
      "flex_flow": null,
      "grid_area": null,
      "grid_auto_columns": null,
      "grid_auto_flow": null,
      "grid_auto_rows": null,
      "grid_column": null,
      "grid_gap": null,
      "grid_row": null,
      "grid_template_areas": null,
      "grid_template_columns": null,
      "grid_template_rows": null,
      "height": null,
      "justify_content": null,
      "justify_items": null,
      "left": null,
      "margin": null,
      "max_height": null,
      "max_width": null,
      "min_height": null,
      "min_width": null,
      "object_fit": null,
      "object_position": null,
      "order": null,
      "overflow": null,
      "overflow_x": null,
      "overflow_y": null,
      "padding": null,
      "right": null,
      "top": null,
      "visibility": null,
      "width": null
     }
    },
    "8a46652d8b594419a73330c2c54eeebf": {
     "model_module": "@jupyter-widgets/controls",
     "model_module_version": "1.5.0",
     "model_name": "HBoxModel",
     "state": {
      "_dom_classes": [],
      "_model_module": "@jupyter-widgets/controls",
      "_model_module_version": "1.5.0",
      "_model_name": "HBoxModel",
      "_view_count": null,
      "_view_module": "@jupyter-widgets/controls",
      "_view_module_version": "1.5.0",
      "_view_name": "HBoxView",
      "box_style": "",
      "children": [
       "IPY_MODEL_41096aa2c4114b59a25edbbfae42e4d6",
       "IPY_MODEL_2acec3aa4170411b854d427b583a12e5",
       "IPY_MODEL_670eefdbb2a344ba8f97992d4a43e607"
      ],
      "layout": "IPY_MODEL_c2f4680a8ccd4752b6f9fa22da3f8673"
     }
    },
    "9ab56c472b834e34aa4affd7cdcba6fd": {
     "model_module": "@jupyter-widgets/controls",
     "model_module_version": "1.5.0",
     "model_name": "HBoxModel",
     "state": {
      "_dom_classes": [],
      "_model_module": "@jupyter-widgets/controls",
      "_model_module_version": "1.5.0",
      "_model_name": "HBoxModel",
      "_view_count": null,
      "_view_module": "@jupyter-widgets/controls",
      "_view_module_version": "1.5.0",
      "_view_name": "HBoxView",
      "box_style": "",
      "children": [
       "IPY_MODEL_9d3087fb42f141c9b6f7c73f990af111",
       "IPY_MODEL_625acfb7fa1548f193acf4bcb4791197",
       "IPY_MODEL_07908a60c9a44d0bbf461388135f5729"
      ],
      "layout": "IPY_MODEL_39a41753270348e789dfbc738aa38999"
     }
    },
    "9d3087fb42f141c9b6f7c73f990af111": {
     "model_module": "@jupyter-widgets/controls",
     "model_module_version": "1.5.0",
     "model_name": "HTMLModel",
     "state": {
      "_dom_classes": [],
      "_model_module": "@jupyter-widgets/controls",
      "_model_module_version": "1.5.0",
      "_model_name": "HTMLModel",
      "_view_count": null,
      "_view_module": "@jupyter-widgets/controls",
      "_view_module_version": "1.5.0",
      "_view_name": "HTMLView",
      "description": "",
      "description_tooltip": null,
      "layout": "IPY_MODEL_7d409eef5dd74e9ca97d05bbfd76816d",
      "placeholder": "​",
      "style": "IPY_MODEL_c285ba0de08447fe94ac9f8800bd627e",
      "value": "Downloading: 100%"
     }
    },
    "ac9bd92c048f4f88bc9df9ba32811c7b": {
     "model_module": "@jupyter-widgets/controls",
     "model_module_version": "1.5.0",
     "model_name": "DescriptionStyleModel",
     "state": {
      "_model_module": "@jupyter-widgets/controls",
      "_model_module_version": "1.5.0",
      "_model_name": "DescriptionStyleModel",
      "_view_count": null,
      "_view_module": "@jupyter-widgets/base",
      "_view_module_version": "1.2.0",
      "_view_name": "StyleView",
      "description_width": ""
     }
    },
    "ad2fa29002184be5bd4d94733565d204": {
     "model_module": "@jupyter-widgets/base",
     "model_module_version": "1.2.0",
     "model_name": "LayoutModel",
     "state": {
      "_model_module": "@jupyter-widgets/base",
      "_model_module_version": "1.2.0",
      "_model_name": "LayoutModel",
      "_view_count": null,
      "_view_module": "@jupyter-widgets/base",
      "_view_module_version": "1.2.0",
      "_view_name": "LayoutView",
      "align_content": null,
      "align_items": null,
      "align_self": null,
      "border": null,
      "bottom": null,
      "display": null,
      "flex": null,
      "flex_flow": null,
      "grid_area": null,
      "grid_auto_columns": null,
      "grid_auto_flow": null,
      "grid_auto_rows": null,
      "grid_column": null,
      "grid_gap": null,
      "grid_row": null,
      "grid_template_areas": null,
      "grid_template_columns": null,
      "grid_template_rows": null,
      "height": null,
      "justify_content": null,
      "justify_items": null,
      "left": null,
      "margin": null,
      "max_height": null,
      "max_width": null,
      "min_height": null,
      "min_width": null,
      "object_fit": null,
      "object_position": null,
      "order": null,
      "overflow": null,
      "overflow_x": null,
      "overflow_y": null,
      "padding": null,
      "right": null,
      "top": null,
      "visibility": null,
      "width": null
     }
    },
    "af34a336c93e49b3807793869e982f5f": {
     "model_module": "@jupyter-widgets/controls",
     "model_module_version": "1.5.0",
     "model_name": "DescriptionStyleModel",
     "state": {
      "_model_module": "@jupyter-widgets/controls",
      "_model_module_version": "1.5.0",
      "_model_name": "DescriptionStyleModel",
      "_view_count": null,
      "_view_module": "@jupyter-widgets/base",
      "_view_module_version": "1.2.0",
      "_view_name": "StyleView",
      "description_width": ""
     }
    },
    "b88f840de3df466ba98553ac96fcbcff": {
     "model_module": "@jupyter-widgets/base",
     "model_module_version": "1.2.0",
     "model_name": "LayoutModel",
     "state": {
      "_model_module": "@jupyter-widgets/base",
      "_model_module_version": "1.2.0",
      "_model_name": "LayoutModel",
      "_view_count": null,
      "_view_module": "@jupyter-widgets/base",
      "_view_module_version": "1.2.0",
      "_view_name": "LayoutView",
      "align_content": null,
      "align_items": null,
      "align_self": null,
      "border": null,
      "bottom": null,
      "display": null,
      "flex": null,
      "flex_flow": null,
      "grid_area": null,
      "grid_auto_columns": null,
      "grid_auto_flow": null,
      "grid_auto_rows": null,
      "grid_column": null,
      "grid_gap": null,
      "grid_row": null,
      "grid_template_areas": null,
      "grid_template_columns": null,
      "grid_template_rows": null,
      "height": null,
      "justify_content": null,
      "justify_items": null,
      "left": null,
      "margin": null,
      "max_height": null,
      "max_width": null,
      "min_height": null,
      "min_width": null,
      "object_fit": null,
      "object_position": null,
      "order": null,
      "overflow": null,
      "overflow_x": null,
      "overflow_y": null,
      "padding": null,
      "right": null,
      "top": null,
      "visibility": null,
      "width": null
     }
    },
    "b934f828fe0746d78a9fec6ac33d7a80": {
     "model_module": "@jupyter-widgets/controls",
     "model_module_version": "1.5.0",
     "model_name": "HTMLModel",
     "state": {
      "_dom_classes": [],
      "_model_module": "@jupyter-widgets/controls",
      "_model_module_version": "1.5.0",
      "_model_name": "HTMLModel",
      "_view_count": null,
      "_view_module": "@jupyter-widgets/controls",
      "_view_module_version": "1.5.0",
      "_view_name": "HTMLView",
      "description": "",
      "description_tooltip": null,
      "layout": "IPY_MODEL_3fe7e259d3424bdf8f6415697827fb3e",
      "placeholder": "​",
      "style": "IPY_MODEL_319ba2aa01064ccfa323b3f6ff6b15a9",
      "value": " 62.0/62.0 [00:00&lt;00:00, 1.98kB/s]"
     }
    },
    "c285ba0de08447fe94ac9f8800bd627e": {
     "model_module": "@jupyter-widgets/controls",
     "model_module_version": "1.5.0",
     "model_name": "DescriptionStyleModel",
     "state": {
      "_model_module": "@jupyter-widgets/controls",
      "_model_module_version": "1.5.0",
      "_model_name": "DescriptionStyleModel",
      "_view_count": null,
      "_view_module": "@jupyter-widgets/base",
      "_view_module_version": "1.2.0",
      "_view_name": "StyleView",
      "description_width": ""
     }
    },
    "c2f4680a8ccd4752b6f9fa22da3f8673": {
     "model_module": "@jupyter-widgets/base",
     "model_module_version": "1.2.0",
     "model_name": "LayoutModel",
     "state": {
      "_model_module": "@jupyter-widgets/base",
      "_model_module_version": "1.2.0",
      "_model_name": "LayoutModel",
      "_view_count": null,
      "_view_module": "@jupyter-widgets/base",
      "_view_module_version": "1.2.0",
      "_view_name": "LayoutView",
      "align_content": null,
      "align_items": null,
      "align_self": null,
      "border": null,
      "bottom": null,
      "display": null,
      "flex": null,
      "flex_flow": null,
      "grid_area": null,
      "grid_auto_columns": null,
      "grid_auto_flow": null,
      "grid_auto_rows": null,
      "grid_column": null,
      "grid_gap": null,
      "grid_row": null,
      "grid_template_areas": null,
      "grid_template_columns": null,
      "grid_template_rows": null,
      "height": null,
      "justify_content": null,
      "justify_items": null,
      "left": null,
      "margin": null,
      "max_height": null,
      "max_width": null,
      "min_height": null,
      "min_width": null,
      "object_fit": null,
      "object_position": null,
      "order": null,
      "overflow": null,
      "overflow_x": null,
      "overflow_y": null,
      "padding": null,
      "right": null,
      "top": null,
      "visibility": null,
      "width": null
     }
    },
    "d8c727f1611b4b54a6af6deb78ef645c": {
     "model_module": "@jupyter-widgets/controls",
     "model_module_version": "1.5.0",
     "model_name": "DescriptionStyleModel",
     "state": {
      "_model_module": "@jupyter-widgets/controls",
      "_model_module_version": "1.5.0",
      "_model_name": "DescriptionStyleModel",
      "_view_count": null,
      "_view_module": "@jupyter-widgets/base",
      "_view_module_version": "1.2.0",
      "_view_name": "StyleView",
      "description_width": ""
     }
    },
    "da7e681827aa4c94855110abcb175d17": {
     "model_module": "@jupyter-widgets/base",
     "model_module_version": "1.2.0",
     "model_name": "LayoutModel",
     "state": {
      "_model_module": "@jupyter-widgets/base",
      "_model_module_version": "1.2.0",
      "_model_name": "LayoutModel",
      "_view_count": null,
      "_view_module": "@jupyter-widgets/base",
      "_view_module_version": "1.2.0",
      "_view_name": "LayoutView",
      "align_content": null,
      "align_items": null,
      "align_self": null,
      "border": null,
      "bottom": null,
      "display": null,
      "flex": null,
      "flex_flow": null,
      "grid_area": null,
      "grid_auto_columns": null,
      "grid_auto_flow": null,
      "grid_auto_rows": null,
      "grid_column": null,
      "grid_gap": null,
      "grid_row": null,
      "grid_template_areas": null,
      "grid_template_columns": null,
      "grid_template_rows": null,
      "height": null,
      "justify_content": null,
      "justify_items": null,
      "left": null,
      "margin": null,
      "max_height": null,
      "max_width": null,
      "min_height": null,
      "min_width": null,
      "object_fit": null,
      "object_position": null,
      "order": null,
      "overflow": null,
      "overflow_x": null,
      "overflow_y": null,
      "padding": null,
      "right": null,
      "top": null,
      "visibility": null,
      "width": null
     }
    },
    "db6bd605310d433a922ccb57ee0e9db8": {
     "model_module": "@jupyter-widgets/controls",
     "model_module_version": "1.5.0",
     "model_name": "HTMLModel",
     "state": {
      "_dom_classes": [],
      "_model_module": "@jupyter-widgets/controls",
      "_model_module_version": "1.5.0",
      "_model_name": "HTMLModel",
      "_view_count": null,
      "_view_module": "@jupyter-widgets/controls",
      "_view_module_version": "1.5.0",
      "_view_name": "HTMLView",
      "description": "",
      "description_tooltip": null,
      "layout": "IPY_MODEL_84f9e6a140e9453385d319ca86113c4b",
      "placeholder": "​",
      "style": "IPY_MODEL_af34a336c93e49b3807793869e982f5f",
      "value": "Downloading: 100%"
     }
    },
    "db97ebaf59644859b3e5673413ea8919": {
     "model_module": "@jupyter-widgets/controls",
     "model_module_version": "1.5.0",
     "model_name": "HBoxModel",
     "state": {
      "_dom_classes": [],
      "_model_module": "@jupyter-widgets/controls",
      "_model_module_version": "1.5.0",
      "_model_name": "HBoxModel",
      "_view_count": null,
      "_view_module": "@jupyter-widgets/controls",
      "_view_module_version": "1.5.0",
      "_view_name": "HBoxView",
      "box_style": "",
      "children": [
       "IPY_MODEL_74aed4aabd354a0ea21e68dc603f8ae8",
       "IPY_MODEL_01acf79c7c704d36b1e67fda94313322",
       "IPY_MODEL_1ec4ea16f6fc448ca29561ecd5108e99"
      ],
      "layout": "IPY_MODEL_7507f8f257a8444bb46a105386281ca2"
     }
    },
    "de5708c77d99400897f252dc51093d62": {
     "model_module": "@jupyter-widgets/controls",
     "model_module_version": "1.5.0",
     "model_name": "ProgressStyleModel",
     "state": {
      "_model_module": "@jupyter-widgets/controls",
      "_model_module_version": "1.5.0",
      "_model_name": "ProgressStyleModel",
      "_view_count": null,
      "_view_module": "@jupyter-widgets/base",
      "_view_module_version": "1.2.0",
      "_view_name": "StyleView",
      "bar_color": null,
      "description_width": ""
     }
    },
    "e432f57a279f4dda9476df8776aae3b6": {
     "model_module": "@jupyter-widgets/base",
     "model_module_version": "1.2.0",
     "model_name": "LayoutModel",
     "state": {
      "_model_module": "@jupyter-widgets/base",
      "_model_module_version": "1.2.0",
      "_model_name": "LayoutModel",
      "_view_count": null,
      "_view_module": "@jupyter-widgets/base",
      "_view_module_version": "1.2.0",
      "_view_name": "LayoutView",
      "align_content": null,
      "align_items": null,
      "align_self": null,
      "border": null,
      "bottom": null,
      "display": null,
      "flex": null,
      "flex_flow": null,
      "grid_area": null,
      "grid_auto_columns": null,
      "grid_auto_flow": null,
      "grid_auto_rows": null,
      "grid_column": null,
      "grid_gap": null,
      "grid_row": null,
      "grid_template_areas": null,
      "grid_template_columns": null,
      "grid_template_rows": null,
      "height": null,
      "justify_content": null,
      "justify_items": null,
      "left": null,
      "margin": null,
      "max_height": null,
      "max_width": null,
      "min_height": null,
      "min_width": null,
      "object_fit": null,
      "object_position": null,
      "order": null,
      "overflow": null,
      "overflow_x": null,
      "overflow_y": null,
      "padding": null,
      "right": null,
      "top": null,
      "visibility": null,
      "width": null
     }
    },
    "eba1ab6335d6493193f835573ece8ca9": {
     "model_module": "@jupyter-widgets/controls",
     "model_module_version": "1.5.0",
     "model_name": "DescriptionStyleModel",
     "state": {
      "_model_module": "@jupyter-widgets/controls",
      "_model_module_version": "1.5.0",
      "_model_name": "DescriptionStyleModel",
      "_view_count": null,
      "_view_module": "@jupyter-widgets/base",
      "_view_module_version": "1.2.0",
      "_view_name": "StyleView",
      "description_width": ""
     }
    },
    "f7366b3f5fb94646a89e9e49c7ed473b": {
     "model_module": "@jupyter-widgets/controls",
     "model_module_version": "1.5.0",
     "model_name": "ProgressStyleModel",
     "state": {
      "_model_module": "@jupyter-widgets/controls",
      "_model_module_version": "1.5.0",
      "_model_name": "ProgressStyleModel",
      "_view_count": null,
      "_view_module": "@jupyter-widgets/base",
      "_view_module_version": "1.2.0",
      "_view_name": "StyleView",
      "bar_color": null,
      "description_width": ""
     }
    }
   }
  }
 },
 "nbformat": 4,
 "nbformat_minor": 5
}
