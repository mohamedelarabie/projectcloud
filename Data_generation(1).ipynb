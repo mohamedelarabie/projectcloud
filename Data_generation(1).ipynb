{
 "cells": [
  {
   "cell_type": "code",
   "execution_count": 60,
   "id": "78b8027b",
   "metadata": {
    "id": "78b8027b"
   },
   "outputs": [],
   "source": [
    "import pandas as pd\n",
    "import random"
   ]
  },
  {
   "cell_type": "code",
   "execution_count": 7,
   "id": "e8a5b149",
   "metadata": {
    "id": "e8a5b149"
   },
   "outputs": [],
   "source": [
    "df = pd.read_csv(\"Arabic_names.csv\")"
   ]
  },
  {
   "cell_type": "code",
   "execution_count": 8,
   "id": "9ace7e4b",
   "metadata": {
    "colab": {
     "base_uri": "https://localhost:8080/",
     "height": 206
    },
    "id": "9ace7e4b",
    "outputId": "97bb75c1-9eb9-42d0-dbb6-ef39e988e74f"
   },
   "outputs": [
    {
     "data": {
      "text/html": [
       "\n",
       "  <div id=\"df-1bcf6993-77f7-4fda-9e13-3483a045d82c\">\n",
       "    <div class=\"colab-df-container\">\n",
       "      <div>\n",
       "<style scoped>\n",
       "    .dataframe tbody tr th:only-of-type {\n",
       "        vertical-align: middle;\n",
       "    }\n",
       "\n",
       "    .dataframe tbody tr th {\n",
       "        vertical-align: top;\n",
       "    }\n",
       "\n",
       "    .dataframe thead th {\n",
       "        text-align: right;\n",
       "    }\n",
       "</style>\n",
       "<table border=\"1\" class=\"dataframe\">\n",
       "  <thead>\n",
       "    <tr style=\"text-align: right;\">\n",
       "      <th></th>\n",
       "      <th>Name</th>\n",
       "      <th>Gender</th>\n",
       "    </tr>\n",
       "  </thead>\n",
       "  <tbody>\n",
       "    <tr>\n",
       "      <th>0</th>\n",
       "      <td>ابتسام</td>\n",
       "      <td>F</td>\n",
       "    </tr>\n",
       "    <tr>\n",
       "      <th>1</th>\n",
       "      <td>ابتهاج</td>\n",
       "      <td>F</td>\n",
       "    </tr>\n",
       "    <tr>\n",
       "      <th>2</th>\n",
       "      <td>ابتهال</td>\n",
       "      <td>F</td>\n",
       "    </tr>\n",
       "    <tr>\n",
       "      <th>3</th>\n",
       "      <td>اجتهاد</td>\n",
       "      <td>F</td>\n",
       "    </tr>\n",
       "    <tr>\n",
       "      <th>4</th>\n",
       "      <td>ازدهار</td>\n",
       "      <td>F</td>\n",
       "    </tr>\n",
       "  </tbody>\n",
       "</table>\n",
       "</div>\n",
       "      <button class=\"colab-df-convert\" onclick=\"convertToInteractive('df-1bcf6993-77f7-4fda-9e13-3483a045d82c')\"\n",
       "              title=\"Convert this dataframe to an interactive table.\"\n",
       "              style=\"display:none;\">\n",
       "        \n",
       "  <svg xmlns=\"http://www.w3.org/2000/svg\" height=\"24px\"viewBox=\"0 0 24 24\"\n",
       "       width=\"24px\">\n",
       "    <path d=\"M0 0h24v24H0V0z\" fill=\"none\"/>\n",
       "    <path d=\"M18.56 5.44l.94 2.06.94-2.06 2.06-.94-2.06-.94-.94-2.06-.94 2.06-2.06.94zm-11 1L8.5 8.5l.94-2.06 2.06-.94-2.06-.94L8.5 2.5l-.94 2.06-2.06.94zm10 10l.94 2.06.94-2.06 2.06-.94-2.06-.94-.94-2.06-.94 2.06-2.06.94z\"/><path d=\"M17.41 7.96l-1.37-1.37c-.4-.4-.92-.59-1.43-.59-.52 0-1.04.2-1.43.59L10.3 9.45l-7.72 7.72c-.78.78-.78 2.05 0 2.83L4 21.41c.39.39.9.59 1.41.59.51 0 1.02-.2 1.41-.59l7.78-7.78 2.81-2.81c.8-.78.8-2.07 0-2.86zM5.41 20L4 18.59l7.72-7.72 1.47 1.35L5.41 20z\"/>\n",
       "  </svg>\n",
       "      </button>\n",
       "      \n",
       "  <style>\n",
       "    .colab-df-container {\n",
       "      display:flex;\n",
       "      flex-wrap:wrap;\n",
       "      gap: 12px;\n",
       "    }\n",
       "\n",
       "    .colab-df-convert {\n",
       "      background-color: #E8F0FE;\n",
       "      border: none;\n",
       "      border-radius: 50%;\n",
       "      cursor: pointer;\n",
       "      display: none;\n",
       "      fill: #1967D2;\n",
       "      height: 32px;\n",
       "      padding: 0 0 0 0;\n",
       "      width: 32px;\n",
       "    }\n",
       "\n",
       "    .colab-df-convert:hover {\n",
       "      background-color: #E2EBFA;\n",
       "      box-shadow: 0px 1px 2px rgba(60, 64, 67, 0.3), 0px 1px 3px 1px rgba(60, 64, 67, 0.15);\n",
       "      fill: #174EA6;\n",
       "    }\n",
       "\n",
       "    [theme=dark] .colab-df-convert {\n",
       "      background-color: #3B4455;\n",
       "      fill: #D2E3FC;\n",
       "    }\n",
       "\n",
       "    [theme=dark] .colab-df-convert:hover {\n",
       "      background-color: #434B5C;\n",
       "      box-shadow: 0px 1px 3px 1px rgba(0, 0, 0, 0.15);\n",
       "      filter: drop-shadow(0px 1px 2px rgba(0, 0, 0, 0.3));\n",
       "      fill: #FFFFFF;\n",
       "    }\n",
       "  </style>\n",
       "\n",
       "      <script>\n",
       "        const buttonEl =\n",
       "          document.querySelector('#df-1bcf6993-77f7-4fda-9e13-3483a045d82c button.colab-df-convert');\n",
       "        buttonEl.style.display =\n",
       "          google.colab.kernel.accessAllowed ? 'block' : 'none';\n",
       "\n",
       "        async function convertToInteractive(key) {\n",
       "          const element = document.querySelector('#df-1bcf6993-77f7-4fda-9e13-3483a045d82c');\n",
       "          const dataTable =\n",
       "            await google.colab.kernel.invokeFunction('convertToInteractive',\n",
       "                                                     [key], {});\n",
       "          if (!dataTable) return;\n",
       "\n",
       "          const docLinkHtml = 'Like what you see? Visit the ' +\n",
       "            '<a target=\"_blank\" href=https://colab.research.google.com/notebooks/data_table.ipynb>data table notebook</a>'\n",
       "            + ' to learn more about interactive tables.';\n",
       "          element.innerHTML = '';\n",
       "          dataTable['output_type'] = 'display_data';\n",
       "          await google.colab.output.renderOutput(dataTable, element);\n",
       "          const docLink = document.createElement('div');\n",
       "          docLink.innerHTML = docLinkHtml;\n",
       "          element.appendChild(docLink);\n",
       "        }\n",
       "      </script>\n",
       "    </div>\n",
       "  </div>\n",
       "  "
      ],
      "text/plain": [
       "     Name Gender\n",
       "0  ابتسام      F\n",
       "1  ابتهاج      F\n",
       "2  ابتهال      F\n",
       "3  اجتهاد      F\n",
       "4  ازدهار      F"
      ]
     },
     "execution_count": 8,
     "metadata": {},
     "output_type": "execute_result"
    }
   ],
   "source": [
    "df.head()"
   ]
  },
  {
   "cell_type": "code",
   "execution_count": 9,
   "id": "243de3a4",
   "metadata": {
    "id": "243de3a4"
   },
   "outputs": [],
   "source": [
    "df_M = df[['Name']][df.Gender == \"M\"].reset_index(drop = True)\n",
    "df_M = df_M.sample(frac = 0.3).reset_index(drop = True)"
   ]
  },
  {
   "cell_type": "code",
   "execution_count": 10,
   "id": "46a3d28b",
   "metadata": {
    "id": "46a3d28b"
   },
   "outputs": [],
   "source": [
    "df_F = df[['Name']][df.Gender == \"F\"].reset_index(drop = True)\n",
    "df_F = df_F.sample(frac = 0.5).reset_index(drop = True)"
   ]
  },
  {
   "cell_type": "code",
   "execution_count": 11,
   "id": "47d728ad",
   "metadata": {
    "id": "47d728ad"
   },
   "outputs": [],
   "source": [
    "# comination of last names \n",
    "last_name = []\n",
    "for i in range(len(df_M)):\n",
    "    for j in range(len(df_M)-1):\n",
    "        last_name.append(df_M.Name[i] +' '+ df_M.Name[j+1])\n",
    "#         last_name.append(df_M.Name[j] +' '+ df_M.Name[i]) # to considre the "
   ]
  },
  {
   "cell_type": "code",
   "execution_count": 12,
   "id": "3b7b3524",
   "metadata": {
    "colab": {
     "base_uri": "https://localhost:8080/"
    },
    "id": "3b7b3524",
    "outputId": "15831744-b9e9-473c-9395-a57b298945d5"
   },
   "outputs": [
    {
     "data": {
      "text/plain": [
       "65280"
      ]
     },
     "execution_count": 12,
     "metadata": {},
     "output_type": "execute_result"
    }
   ],
   "source": [
    "len(last_name)"
   ]
  },
  {
   "cell_type": "code",
   "execution_count": 13,
   "id": "5dcdacda",
   "metadata": {
    "id": "5dcdacda"
   },
   "outputs": [],
   "source": [
    "last_name_ = pd.DataFrame(last_name,columns =['last_name']).sample(frac = 0.3).reset_index(drop = True)"
   ]
  },
  {
   "cell_type": "code",
   "execution_count": 32,
   "id": "d4ccfe88",
   "metadata": {
    "id": "d4ccfe88"
   },
   "outputs": [],
   "source": [
    "# comination of males full names \n",
    "full_name_M = []\n",
    "for i in range(len(last_name_)):\n",
    "    for j in range(len(df_M)):\n",
    "        full_name_M.append(df_M.Name[j]  + ' ' + last_name_.last_name[i])"
   ]
  },
  {
   "cell_type": "code",
   "execution_count": 33,
   "id": "1e4f1635",
   "metadata": {
    "id": "1e4f1635"
   },
   "outputs": [],
   "source": [
    "last_name_ = pd.DataFrame(last_name,columns =['last_name']).sample(frac = 0.3).reset_index(drop = True)"
   ]
  },
  {
   "cell_type": "code",
   "execution_count": 34,
   "id": "8f5e4b04",
   "metadata": {
    "id": "8f5e4b04"
   },
   "outputs": [],
   "source": [
    "# comination of females full names \n",
    "full_name_F = []\n",
    "for i in range(len(last_name_)):\n",
    "    for j in range(len(df_F)):\n",
    "        full_name_F.append(df_F.Name[j] + ' ' + last_name_.last_name[i])"
   ]
  },
  {
   "cell_type": "code",
   "execution_count": 35,
   "id": "e2df5a7c",
   "metadata": {
    "colab": {
     "base_uri": "https://localhost:8080/"
    },
    "id": "e2df5a7c",
    "outputId": "42924d1b-aa88-4430-ed88-408169fadc75"
   },
   "outputs": [
    {
     "data": {
      "text/plain": [
       "5013504"
      ]
     },
     "execution_count": 35,
     "metadata": {},
     "output_type": "execute_result"
    }
   ],
   "source": [
    "len(full_name_M)"
   ]
  },
  {
   "cell_type": "code",
   "execution_count": 36,
   "id": "cbc01bab",
   "metadata": {
    "colab": {
     "base_uri": "https://localhost:8080/"
    },
    "id": "cbc01bab",
    "outputId": "9656b5a7-4092-4631-a302-e09bc77ae95d"
   },
   "outputs": [
    {
     "data": {
      "text/plain": [
       "5405184"
      ]
     },
     "execution_count": 36,
     "metadata": {},
     "output_type": "execute_result"
    }
   ],
   "source": [
    "len(full_name_F)"
   ]
  },
  {
   "cell_type": "code",
   "execution_count": 38,
   "id": "6fa7980f",
   "metadata": {
    "id": "6fa7980f"
   },
   "outputs": [],
   "source": [
    "full_name_M_ = pd.DataFrame(full_name_M).sample(frac = 0.1).reset_index(drop = True)"
   ]
  },
  {
   "cell_type": "code",
   "execution_count": 39,
   "id": "08dc3618",
   "metadata": {
    "id": "08dc3618"
   },
   "outputs": [],
   "source": [
    "full_name_F_ = pd.DataFrame(full_name_F).sample(frac = 0.1).reset_index(drop = True)"
   ]
  },
  {
   "cell_type": "code",
   "execution_count": 46,
   "id": "ed451ae5",
   "metadata": {
    "id": "ed451ae5"
   },
   "outputs": [],
   "source": [
    "df = full_name_M_.append(full_name_F_)\n",
    "df = df.sample(frac = 1).reset_index(drop = True)\n",
    "df.rename(columns = {0 :'Full_name'}, inplace = True)"
   ]
  },
  {
   "cell_type": "code",
   "execution_count": 47,
   "id": "wqqoGFePkxjO",
   "metadata": {
    "colab": {
     "base_uri": "https://localhost:8080/",
     "height": 206
    },
    "id": "wqqoGFePkxjO",
    "outputId": "85034043-429c-4212-c31f-a9296ace0d59"
   },
   "outputs": [
    {
     "data": {
      "text/html": [
       "\n",
       "  <div id=\"df-f7872729-738c-40cc-81f5-3e270b5c7a90\">\n",
       "    <div class=\"colab-df-container\">\n",
       "      <div>\n",
       "<style scoped>\n",
       "    .dataframe tbody tr th:only-of-type {\n",
       "        vertical-align: middle;\n",
       "    }\n",
       "\n",
       "    .dataframe tbody tr th {\n",
       "        vertical-align: top;\n",
       "    }\n",
       "\n",
       "    .dataframe thead th {\n",
       "        text-align: right;\n",
       "    }\n",
       "</style>\n",
       "<table border=\"1\" class=\"dataframe\">\n",
       "  <thead>\n",
       "    <tr style=\"text-align: right;\">\n",
       "      <th></th>\n",
       "      <th>Full_name</th>\n",
       "    </tr>\n",
       "  </thead>\n",
       "  <tbody>\n",
       "    <tr>\n",
       "      <th>0</th>\n",
       "      <td>أمية رفاعي شفيع</td>\n",
       "    </tr>\n",
       "    <tr>\n",
       "      <th>1</th>\n",
       "      <td>سمير رشوان مسعود</td>\n",
       "    </tr>\n",
       "    <tr>\n",
       "      <th>2</th>\n",
       "      <td>عبدالحي أشجع توفيق</td>\n",
       "    </tr>\n",
       "    <tr>\n",
       "      <th>3</th>\n",
       "      <td>رفيدة جهاد حسام</td>\n",
       "    </tr>\n",
       "    <tr>\n",
       "      <th>4</th>\n",
       "      <td>عايدة مطر وليد</td>\n",
       "    </tr>\n",
       "  </tbody>\n",
       "</table>\n",
       "</div>\n",
       "      <button class=\"colab-df-convert\" onclick=\"convertToInteractive('df-f7872729-738c-40cc-81f5-3e270b5c7a90')\"\n",
       "              title=\"Convert this dataframe to an interactive table.\"\n",
       "              style=\"display:none;\">\n",
       "        \n",
       "  <svg xmlns=\"http://www.w3.org/2000/svg\" height=\"24px\"viewBox=\"0 0 24 24\"\n",
       "       width=\"24px\">\n",
       "    <path d=\"M0 0h24v24H0V0z\" fill=\"none\"/>\n",
       "    <path d=\"M18.56 5.44l.94 2.06.94-2.06 2.06-.94-2.06-.94-.94-2.06-.94 2.06-2.06.94zm-11 1L8.5 8.5l.94-2.06 2.06-.94-2.06-.94L8.5 2.5l-.94 2.06-2.06.94zm10 10l.94 2.06.94-2.06 2.06-.94-2.06-.94-.94-2.06-.94 2.06-2.06.94z\"/><path d=\"M17.41 7.96l-1.37-1.37c-.4-.4-.92-.59-1.43-.59-.52 0-1.04.2-1.43.59L10.3 9.45l-7.72 7.72c-.78.78-.78 2.05 0 2.83L4 21.41c.39.39.9.59 1.41.59.51 0 1.02-.2 1.41-.59l7.78-7.78 2.81-2.81c.8-.78.8-2.07 0-2.86zM5.41 20L4 18.59l7.72-7.72 1.47 1.35L5.41 20z\"/>\n",
       "  </svg>\n",
       "      </button>\n",
       "      \n",
       "  <style>\n",
       "    .colab-df-container {\n",
       "      display:flex;\n",
       "      flex-wrap:wrap;\n",
       "      gap: 12px;\n",
       "    }\n",
       "\n",
       "    .colab-df-convert {\n",
       "      background-color: #E8F0FE;\n",
       "      border: none;\n",
       "      border-radius: 50%;\n",
       "      cursor: pointer;\n",
       "      display: none;\n",
       "      fill: #1967D2;\n",
       "      height: 32px;\n",
       "      padding: 0 0 0 0;\n",
       "      width: 32px;\n",
       "    }\n",
       "\n",
       "    .colab-df-convert:hover {\n",
       "      background-color: #E2EBFA;\n",
       "      box-shadow: 0px 1px 2px rgba(60, 64, 67, 0.3), 0px 1px 3px 1px rgba(60, 64, 67, 0.15);\n",
       "      fill: #174EA6;\n",
       "    }\n",
       "\n",
       "    [theme=dark] .colab-df-convert {\n",
       "      background-color: #3B4455;\n",
       "      fill: #D2E3FC;\n",
       "    }\n",
       "\n",
       "    [theme=dark] .colab-df-convert:hover {\n",
       "      background-color: #434B5C;\n",
       "      box-shadow: 0px 1px 3px 1px rgba(0, 0, 0, 0.15);\n",
       "      filter: drop-shadow(0px 1px 2px rgba(0, 0, 0, 0.3));\n",
       "      fill: #FFFFFF;\n",
       "    }\n",
       "  </style>\n",
       "\n",
       "      <script>\n",
       "        const buttonEl =\n",
       "          document.querySelector('#df-f7872729-738c-40cc-81f5-3e270b5c7a90 button.colab-df-convert');\n",
       "        buttonEl.style.display =\n",
       "          google.colab.kernel.accessAllowed ? 'block' : 'none';\n",
       "\n",
       "        async function convertToInteractive(key) {\n",
       "          const element = document.querySelector('#df-f7872729-738c-40cc-81f5-3e270b5c7a90');\n",
       "          const dataTable =\n",
       "            await google.colab.kernel.invokeFunction('convertToInteractive',\n",
       "                                                     [key], {});\n",
       "          if (!dataTable) return;\n",
       "\n",
       "          const docLinkHtml = 'Like what you see? Visit the ' +\n",
       "            '<a target=\"_blank\" href=https://colab.research.google.com/notebooks/data_table.ipynb>data table notebook</a>'\n",
       "            + ' to learn more about interactive tables.';\n",
       "          element.innerHTML = '';\n",
       "          dataTable['output_type'] = 'display_data';\n",
       "          await google.colab.output.renderOutput(dataTable, element);\n",
       "          const docLink = document.createElement('div');\n",
       "          docLink.innerHTML = docLinkHtml;\n",
       "          element.appendChild(docLink);\n",
       "        }\n",
       "      </script>\n",
       "    </div>\n",
       "  </div>\n",
       "  "
      ],
      "text/plain": [
       "            Full_name\n",
       "0     أمية رفاعي شفيع\n",
       "1    سمير رشوان مسعود\n",
       "2  عبدالحي أشجع توفيق\n",
       "3     رفيدة جهاد حسام\n",
       "4      عايدة مطر وليد"
      ]
     },
     "execution_count": 47,
     "metadata": {},
     "output_type": "execute_result"
    }
   ],
   "source": [
    "df.head()"
   ]
  },
  {
   "cell_type": "code",
   "execution_count": null,
   "id": "a8c1f6c1",
   "metadata": {
    "id": "a8c1f6c1"
   },
   "outputs": [],
   "source": [
    "# df.to_pickle(\"full_name.pkl\")  "
   ]
  },
  {
   "cell_type": "code",
   "execution_count": null,
   "id": "3cb44822",
   "metadata": {
    "id": "3cb44822"
   },
   "outputs": [],
   "source": [
    "# df = pd.read_pickle(\"full_name.pkl\")"
   ]
  },
  {
   "cell_type": "code",
   "execution_count": 68,
   "id": "dd74f6a2",
   "metadata": {
    "id": "dd74f6a2"
   },
   "outputs": [],
   "source": [
    "df_error = df.sample(frac = 1).reset_index(drop = True)"
   ]
  },
  {
   "cell_type": "code",
   "execution_count": 69,
   "id": "8d7b216e",
   "metadata": {
    "id": "8d7b216e"
   },
   "outputs": [],
   "source": [
    "df['label'] = 0"
   ]
  },
  {
   "cell_type": "code",
   "execution_count": 70,
   "id": "acfb8bb6",
   "metadata": {
    "id": "acfb8bb6"
   },
   "outputs": [],
   "source": [
    "df_error['label'] = 1"
   ]
  },
  {
   "cell_type": "code",
   "execution_count": 71,
   "id": "F78CmR4bnTpY",
   "metadata": {
    "id": "F78CmR4bnTpY"
   },
   "outputs": [],
   "source": [
    "arb_le = ['ا','أ','ب','ت','ث','د','ج','خ','ح','ه','ع','غ','و','ظ','ش','س','ئ','ض','ذ','','ك','ق','ف','ؤ','م','ر','ن','ز']"
   ]
  },
  {
   "cell_type": "code",
   "execution_count": 74,
   "id": "97e805d5",
   "metadata": {
    "colab": {
     "base_uri": "https://localhost:8080/",
     "height": 35
    },
    "id": "97e805d5",
    "outputId": "5fef40de-c579-4d2e-d83d-2ed44e3e8657"
   },
   "outputs": [
    {
     "data": {
      "application/vnd.google.colaboratory.intrinsic+json": {
       "type": "string"
      },
      "text/plain": [
       "'حسنية ثاب ذعار'"
      ]
     },
     "execution_count": 74,
     "metadata": {},
     "output_type": "execute_result"
    }
   ],
   "source": [
    "# sample of replaceing random correct letter with random wrong one\n",
    "df_error['Full_name'][0].replace(random.choice(df_error['Full_name'][0]), random.choice(arb_le))"
   ]
  },
  {
   "cell_type": "code",
   "execution_count": 109,
   "id": "rb-GvN3eqBdh",
   "metadata": {
    "id": "rb-GvN3eqBdh"
   },
   "outputs": [],
   "source": [
    "# iterate over all names \n",
    "wrong_names = []\n",
    "for i in range(len(df_error)):\n",
    "  # random replacing twice\n",
    "  wrong_name = df_error['Full_name'][i].replace(random.choice(df_error['Full_name'][i]), random.choice(arb_le)).replace(random.choice(df_error['Full_name'][i]), random.choice(arb_le))\n",
    "  wrong_names.append(wrong_name)"
   ]
  },
  {
   "cell_type": "code",
   "execution_count": 113,
   "id": "ABI8_gd_vIJX",
   "metadata": {
    "id": "ABI8_gd_vIJX"
   },
   "outputs": [],
   "source": [
    "wrong_names_df = pd.DataFrame(wrong_names).sample(frac = 1).reset_index(drop = True)\n",
    "wrong_names_df.rename(columns = {0 :'Full_name'}, inplace = True)"
   ]
  },
  {
   "cell_type": "code",
   "execution_count": 115,
   "id": "9ZKJ2heTvBcm",
   "metadata": {
    "id": "9ZKJ2heTvBcm"
   },
   "outputs": [],
   "source": [
    "wrong_names_df['label'] = 1"
   ]
  },
  {
   "cell_type": "code",
   "execution_count": 117,
   "id": "sQTJZVXuvrvv",
   "metadata": {
    "id": "sQTJZVXuvrvv"
   },
   "outputs": [],
   "source": [
    "FULL_DATA = df.append(wrong_names_df)\n",
    "FULL_DATA = FULL_DATA.sample(frac = 1).reset_index(drop = True)"
   ]
  },
  {
   "cell_type": "code",
   "execution_count": 119,
   "id": "w6R2amvJuy0g",
   "metadata": {
    "id": "w6R2amvJuy0g"
   },
   "outputs": [],
   "source": [
    "# FULL_DATA.to_csv('FULL_DATA.csv')"
   ]
  }
 ],
 "metadata": {
  "accelerator": "GPU",
  "colab": {
   "provenance": []
  },
  "gpuClass": "standard",
  "kernelspec": {
   "display_name": "Python 3",
   "language": "python",
   "name": "python3"
  },
  "language_info": {
   "codemirror_mode": {
    "name": "ipython",
    "version": 3
   },
   "file_extension": ".py",
   "mimetype": "text/x-python",
   "name": "python",
   "nbconvert_exporter": "python",
   "pygments_lexer": "ipython3",
   "version": "3.8.8"
  }
 },
 "nbformat": 4,
 "nbformat_minor": 5
}
